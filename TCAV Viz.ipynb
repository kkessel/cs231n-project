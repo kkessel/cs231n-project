{
 "cells": [
  {
   "cell_type": "markdown",
   "metadata": {},
   "source": [
    "# TO DO"
   ]
  },
  {
   "cell_type": "markdown",
   "metadata": {},
   "source": [
    "1. Update the `cav_dir` and `ckpt_path` parameters for each run of the `get_tcavs.main` (there are six in total). These paths are model-specific.\n",
    "2. If you change the number of not-concept data sets, update the `num_random_concepts` parameter below. This should be the same value for all six models.\n",
    "3. You might need to change the `num_workers` parameter which is defined in a few places in the `tcav` repo. I think it only appears in the following: `activation_generator.py` (line 142), `tcav.py` (lines 72, 183).\n",
    "4. Run the notebook in full!"
   ]
  },
  {
   "cell_type": "code",
   "execution_count": null,
   "metadata": {},
   "outputs": [],
   "source": [
    "import get_tcavs\n",
    "%load_ext autoreload\n",
    "%autoreload 2"
   ]
  },
  {
   "cell_type": "markdown",
   "metadata": {},
   "source": [
    "This notebook is the one that runs the TCAV framework on the datasets. It assumes this is being run from the same directory where the `data/` directory exists. \n",
    "\n",
    "The `data/` directory did not allow a nested structure, so every concept / non-concept / zebra is simply a subfolder of the `data/` directory. I would not add a subdirectory structure here, unless you are sure it will work. \n",
    "\n",
    "`cav_dir` specifies the folder where the CAVs and activations in latent space will all be cached / saved. \n",
    "This is useful cause **the code does not run in a single execution**. What I observed is that it would log that it was working on some pairs of concepts / non-concepts, but would crash with a weird error I could not figure out. **BUT** running the same cell two or three times resulted eventually in a successful run, because if reuses everything that is already precomputed and saved in this dir. \n",
    "If you want to actually rerun the CAV framework, change this to some other name and observe the wonders of the TCAV framework. \n",
    "\n",
    "`ckpt_path` self explanatory: where the trained network checkpoint is saved. \n",
    "\n",
    "`target` the subdirectory name within the `data/` dir which contains the images of the class you want to evaluate against the concept. i.e. examples for which you want to know how relevant the concepts you are evaluating is.\n",
    "\n",
    "Most other stuff (the target class, the depth at which we want to extract features, where the concepts and non-concepts are, etc...) is sorta hard-coded in the `get_tcavs.py` file but is easily parametrizable. \n",
    "\n",
    "Also, the output is super verbose, part of that is me, but part of that is also the TCAV framework."
   ]
  },
  {
   "cell_type": "markdown",
   "metadata": {},
   "source": [
    "## 3 x 20 network"
   ]
  },
  {
   "cell_type": "code",
   "execution_count": null,
   "metadata": {},
   "outputs": [],
   "source": [
    "cav_dir = 'balanced-100_3x20'\n",
    "ckpt_path = 'models/network_balanced-100_3x20.ckpt'\n",
    "target = 'all_blue_2s'\n",
    "num_random_concepts = 100\n",
    "network_arch = 3*[20]"
   ]
  },
  {
   "cell_type": "code",
   "execution_count": null,
   "metadata": {},
   "outputs": [],
   "source": [
    "results = get_tcavs.main(cav_dir=cav_dir,\n",
    "                         ckpt_path=ckpt_path,\n",
    "                         target=target,\n",
    "                         num_random_concepts=num_random_concepts,\n",
    "                         network_arch=network_arch)"
   ]
  },
  {
   "cell_type": "code",
   "execution_count": null,
   "metadata": {},
   "outputs": [],
   "source": [
    "cav_dir = 'blue2-100_3x20'\n",
    "ckpt_path = 'models/network_blue2-100_3x20.ckpt'\n",
    "target = 'all_blue_2s'\n",
    "num_random_concepts = 100\n",
    "network_arch = 3*[20]"
   ]
  },
  {
   "cell_type": "code",
   "execution_count": null,
   "metadata": {},
   "outputs": [],
   "source": [
    "results = get_tcavs.main(cav_dir=cav_dir,\n",
    "                         ckpt_path=ckpt_path,\n",
    "                         target=target,\n",
    "                         num_random_concepts=num_random_concepts,\n",
    "                         network_arch=network_arch)"
   ]
  },
  {
   "cell_type": "markdown",
   "metadata": {},
   "source": [
    "## 3 x 50 network"
   ]
  },
  {
   "cell_type": "code",
   "execution_count": null,
   "metadata": {},
   "outputs": [],
   "source": [
    "cav_dir = 'balanced-100_3x50'\n",
    "ckpt_path = 'models/network_balanced-100_3x50.ckpt'\n",
    "target = 'all_blue_2s'\n",
    "num_random_concepts = 100\n",
    "network_arch = 3*[50]"
   ]
  },
  {
   "cell_type": "code",
   "execution_count": null,
   "metadata": {},
   "outputs": [],
   "source": [
    "results = get_tcavs.main(cav_dir=cav_dir,\n",
    "                         ckpt_path=ckpt_path,\n",
    "                         target=target,\n",
    "                         num_random_concepts=num_random_concepts,\n",
    "                         network_arch=network_arch)"
   ]
  },
  {
   "cell_type": "code",
   "execution_count": null,
   "metadata": {},
   "outputs": [],
   "source": [
    "cav_dir = 'blue2-100_3x50'\n",
    "ckpt_path = 'models/network_blue2-100_3x50.ckpt'\n",
    "target = 'all_blue_2s'\n",
    "num_random_concepts = 100\n",
    "network_arch = 3*[50]"
   ]
  },
  {
   "cell_type": "code",
   "execution_count": null,
   "metadata": {},
   "outputs": [],
   "source": [
    "results = get_tcavs.main(cav_dir=cav_dir,\n",
    "                         ckpt_path=ckpt_path,\n",
    "                         target=target,\n",
    "                         num_random_concepts=num_random_concepts,\n",
    "                         network_arch=network_arch)"
   ]
  },
  {
   "cell_type": "markdown",
   "metadata": {},
   "source": [
    "## 5 x 50 network"
   ]
  },
  {
   "cell_type": "code",
   "execution_count": null,
   "metadata": {},
   "outputs": [],
   "source": [
    "cav_dir = 'balanced-100_5x50'\n",
    "ckpt_path = 'models/network_balanced-100_5x50.ckpt'\n",
    "target = 'all_blue_2s'\n",
    "num_random_concepts = 100\n",
    "network_arch = 5*[50]"
   ]
  },
  {
   "cell_type": "code",
   "execution_count": null,
   "metadata": {},
   "outputs": [],
   "source": [
    "results = get_tcavs.main(cav_dir=cav_dir,\n",
    "                         ckpt_path=ckpt_path,\n",
    "                         target=target,\n",
    "                         num_random_concepts=num_random_concepts,\n",
    "                         network_arch=network_arch)"
   ]
  },
  {
   "cell_type": "code",
   "execution_count": null,
   "metadata": {},
   "outputs": [],
   "source": [
    "cav_dir = 'blue2-100_5x50'\n",
    "ckpt_path = 'models/network_blue2-100_5x50.ckpt'\n",
    "target = 'all_blue_2s'\n",
    "num_random_concepts = 100\n",
    "network_arch = 5*[50]"
   ]
  },
  {
   "cell_type": "code",
   "execution_count": null,
   "metadata": {
    "scrolled": true
   },
   "outputs": [],
   "source": [
    "results = get_tcavs.main(cav_dir=cav_dir,\n",
    "                         ckpt_path=ckpt_path,\n",
    "                         target=target,\n",
    "                         num_random_concepts=num_random_concepts,\n",
    "                         network_arch=network_arch)"
   ]
  }
 ],
 "metadata": {
  "kernelspec": {
   "display_name": "cs231n-project",
   "language": "python",
   "name": "cs231n-project"
  },
  "language_info": {
   "codemirror_mode": {
    "name": "ipython",
    "version": 3
   },
   "file_extension": ".py",
   "mimetype": "text/x-python",
   "name": "python",
   "nbconvert_exporter": "python",
   "pygments_lexer": "ipython3",
   "version": "3.7.3"
  }
 },
 "nbformat": 4,
 "nbformat_minor": 2
}
