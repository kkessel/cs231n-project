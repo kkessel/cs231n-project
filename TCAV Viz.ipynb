{
 "cells": [
  {
   "cell_type": "code",
   "execution_count": null,
   "metadata": {},
   "outputs": [],
   "source": [
    "import get_tcavs\n",
    "%load_ext autoreload\n",
    "%autoreload 2"
   ]
  },
  {
   "cell_type": "markdown",
   "metadata": {},
   "source": [
    "This notebook is the one that runs the TCAV framework on the datasets. It assumes this is being run from the same directory where the `data/` directory exists. \n",
    "\n",
    "The `data/` directory did not allow a nested structure, so every concept / non-concept / zebra is simply a subfolder of the `data/` directory. I would not add a subdirectory structure here, unless you are sure it will work. \n",
    "\n",
    "`cav_dir` specifies the folder where the CAVs and activations in latent space will all be cached / saved. \n",
    "This is useful cause **the code does not run in a single execution**. What I observed is that it would log that it was working on some pairs of concepts / non-concepts, but would crash with a weird error I could not figure out. **BUT** running the same cell two or three times resulted eventually in a successful run, because if reuses everything that is already precomputed and saved in this dir. \n",
    "If you want to actually rerun the CAV framework, change this to some other name and observe the wonders of the TCAV framework. \n",
    "\n",
    "`ckpt_path` self explanatory: where the trained network checkpoint is saved. \n",
    "\n",
    "`target` the subdirectory name within the `data/` dir which contains the images of the class you want to evaluate against the concept. i.e. examples for which you want to know how relevant the concepts you are evaluating is.\n",
    "\n",
    "Most other stuff (the target class, the depth at which we want to extract features, where the concepts and non-concepts are, etc...) is sorta hard-coded in the `get_tcavs.py` file but is easily parametrizable. \n",
    "\n",
    "Also, the output is super verbose, part of that is me, but part of that is also the TCAV framework."
   ]
  },
  {
   "cell_type": "code",
   "execution_count": null,
   "metadata": {
    "scrolled": true
   },
   "outputs": [],
   "source": [
    "get_tcavs.main(model_name='MNIST Model 1',\n",
    "               cav_dir='balanced-100_5x50',\n",
    "               ckpt_path='models/network_balanced-100_5x50.ckpt',\n",
    "               target='all_blue_2s',\n",
    "               network_arch=5*[50])"
   ]
  },
  {
   "cell_type": "code",
   "execution_count": null,
   "metadata": {},
   "outputs": [],
   "source": [
    "get_tcavs.main(model_name='MNIST Model 2',\n",
    "               cav_dir='blue2-100_5x50',\n",
    "               ckpt_path='models/network_blue2-100_5x50.ckpt',\n",
    "               target='all_blue_2s',\n",
    "               network_arch=5*[50])"
   ]
  }
 ],
 "metadata": {
  "kernelspec": {
   "display_name": "cs231n-project",
   "language": "python",
   "name": "cs231n-project"
  },
  "language_info": {
   "codemirror_mode": {
    "name": "ipython",
    "version": 3
   },
   "file_extension": ".py",
   "mimetype": "text/x-python",
   "name": "python",
   "nbconvert_exporter": "python",
   "pygments_lexer": "ipython3",
   "version": "3.7.3"
  }
 },
 "nbformat": 4,
 "nbformat_minor": 2
}
