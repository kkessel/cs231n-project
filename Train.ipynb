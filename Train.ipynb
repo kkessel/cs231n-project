{
 "cells": [
  {
   "cell_type": "code",
   "execution_count": 1,
   "metadata": {},
   "outputs": [],
   "source": [
    "import sys\n",
    "import os\n",
    "from tensorflow.examples.tutorials.mnist import input_data\n",
    "import tensorflow as tf\n",
    "import math\n",
    "import numpy as np\n",
    "import skimage.measure"
   ]
  },
  {
   "cell_type": "code",
   "execution_count": 2,
   "metadata": {},
   "outputs": [
    {
     "name": "stdout",
     "output_type": "stream",
     "text": [
      "Extracting ./mnist_data/train-images-idx3-ubyte.gz\n",
      "Extracting ./mnist_data/train-labels-idx1-ubyte.gz\n",
      "Extracting ./mnist_data/t10k-images-idx3-ubyte.gz\n",
      "Extracting ./mnist_data/t10k-labels-idx1-ubyte.gz\n"
     ]
    }
   ],
   "source": [
    "#mnist = input_data.read_data_sets('./mnist_data')\n",
    "model_name = \"mnist5CL\"\n",
    "\n",
    "def weight_variable(shape):\n",
    "    initial = tf.truncated_normal(shape, stddev=0.1)\n",
    "    return tf.Variable(initial)\n",
    "\n",
    "def bias_variable(shape):\n",
    "    initial = tf.constant(0.1, shape=shape)\n",
    "    return tf.Variable(initial)\n",
    "\n",
    "def conv2d(x, W):\n",
    "    return tf.nn.conv2d(x, W, strides=[1, 1, 1, 1], padding='SAME')\n",
    "\n",
    "def reshape_batch(x):\n",
    "    modified_x = []\n",
    "    for image in x:\n",
    "        i = np.reshape(image, (28, 28))\n",
    "        modified_x.append(np.reshape(skimage.measure.block_reduce(i, (2, 2), np.max), (196)))\n",
    "    modified_x = np.array(modified_x)\n",
    "    return modified_x"
   ]
  },
  {
   "cell_type": "code",
   "execution_count": 3,
   "metadata": {},
   "outputs": [],
   "source": [
    "data_train = np.load('blue2_train.npz')\n",
    "data_trainX = data_train['X']\n",
    "data_trainY = data_train['y']\n",
    "data_test = np.load('blue2_test.npz')\n",
    "data_testX = data_test['X']\n",
    "data_testY = data_test['y']"
   ]
  },
  {
   "cell_type": "code",
   "execution_count": 4,
   "metadata": {},
   "outputs": [
    {
     "data": {
      "text/plain": [
       "(10000, 2352)"
      ]
     },
     "execution_count": 4,
     "metadata": {},
     "output_type": "execute_result"
    }
   ],
   "source": [
    "data_test['X'].shape"
   ]
  },
  {
   "cell_type": "code",
   "execution_count": 5,
   "metadata": {},
   "outputs": [
    {
     "data": {
      "text/plain": [
       "(10000,)"
      ]
     },
     "execution_count": 5,
     "metadata": {},
     "output_type": "execute_result"
    }
   ],
   "source": [
    "data_test['y'].shape"
   ]
  },
  {
   "cell_type": "code",
   "execution_count": 6,
   "metadata": {},
   "outputs": [
    {
     "data": {
      "text/plain": [
       "(60000,)"
      ]
     },
     "execution_count": 6,
     "metadata": {},
     "output_type": "execute_result"
    }
   ],
   "source": [
    "data_train['y'].shape"
   ]
  },
  {
   "cell_type": "code",
   "execution_count": 7,
   "metadata": {},
   "outputs": [],
   "source": [
    "#mnist = input_data.read_data_sets('./mnist_data')\n",
    "file_name = \"mnist5CL.pb\"\n",
    "\n",
    "def weight_variable(shape):\n",
    "    initial = tf.truncated_normal(shape, stddev=0.1)\n",
    "    return tf.Variable(initial)\n",
    "\n",
    "def bias_variable(shape):\n",
    "    initial = tf.constant(0.1, shape=shape)\n",
    "    return tf.Variable(initial)\n",
    "\n",
    "def conv2d(x, W):\n",
    "    return tf.nn.conv2d(x, W, strides=[1, 1, 1, 1], padding='SAME')\n",
    "\n",
    "def reshape_batch(x):\n",
    "    modified_x = []\n",
    "    for image in x:\n",
    "        i = np.reshape(image, (28, 28))\n",
    "        modified_x.append(np.reshape(skimage.measure.block_reduce(i, (2, 2), np.max), (196)))\n",
    "    modified_x = np.array(modified_x)\n",
    "    return modified_x"
   ]
  },
  {
   "cell_type": "code",
   "execution_count": 8,
   "metadata": {},
   "outputs": [],
   "source": [
    "F = 5\n",
    "C = 5\n",
    "INPUT = 784*3\n",
    "OUTPUT = 10\n",
    "HFC = 50"
   ]
  },
  {
   "cell_type": "code",
   "execution_count": 9,
   "metadata": {},
   "outputs": [],
   "source": [
    "x_in = tf.placeholder(tf.float32, [None, INPUT], name='input_op')\n",
    "\n",
    "# W_conv = weight_variable([F, F, 1, C])\n",
    "# b_conv = bias_variable([C])\n",
    "\n",
    "#W_fc = weight_variable([INPUT, HFC])\n",
    "#b_fc = bias_variable([HFC])\n",
    "\n",
    "#W_o = weight_variable([HFC, OUTPUT])\n",
    "#b_o = bias_variable([OUTPUT])\n",
    "\n",
    "W_fc = weight_variable([INPUT, HFC])\n",
    "b_fc = bias_variable([HFC])\n",
    "\n",
    "W_fc1 = weight_variable([HFC, HFC])\n",
    "b_fc1 = bias_variable([HFC])\n",
    "\n",
    "W_fc2 = weight_variable([HFC, HFC])\n",
    "b_fc2 = bias_variable([HFC])\n",
    "\n",
    "W_fc3 = weight_variable([HFC, HFC])\n",
    "b_fc3 = bias_variable([HFC])\n",
    "\n",
    "W_fc4 = weight_variable([HFC, HFC])\n",
    "b_fc4 = bias_variable([HFC])\n",
    "\n",
    "W_fc5 = weight_variable([HFC, HFC])\n",
    "b_fc5 = bias_variable([HFC])\n",
    "\n",
    "\n",
    "\n",
    "W_o = weight_variable([HFC, OUTPUT])\n",
    "b_o = bias_variable([OUTPUT])\n",
    "\n",
    "\n",
    "\n",
    "\n",
    "\n",
    "#x_image = tf.reshape(x_in, [-1, int(math.sqrt(INPUT)), int(math.sqrt(INPUT)), 1])\n",
    "\n",
    "# h_conv = tf.reshape(tf.nn.relu(conv2d(x_image, W_conv) + b_conv), [-1, INPUT*C])\n",
    "\n",
    "\n",
    "h_fc = tf.nn.relu(tf.add(tf.matmul(x_in, W_fc), b_fc))\n",
    "h_fc1 = tf.nn.relu(tf.add(tf.matmul(h_fc, W_fc1), b_fc1))\n",
    "h_fc2 = tf.nn.relu(tf.add(tf.matmul(h_fc1, W_fc2), b_fc2))\n",
    "h_fc3 = tf.nn.relu(tf.add(tf.matmul(h_fc2, W_fc3), b_fc3))\n",
    "h_fc4 = tf.nn.relu(tf.add(tf.matmul(h_fc3, W_fc4), b_fc4))\n",
    "h_fc5 = tf.nn.relu(tf.add(tf.matmul(h_fc4, W_fc5), b_fc5))\n",
    "\n",
    "\n",
    "y = tf.nn.relu(tf.add(tf.matmul(h_fc5, W_o), b_o, name=\"output_op\"))\n",
    "\n",
    "y_ = tf.placeholder(tf.int64, [None])\n",
    "cross_entropy = tf.losses.sparse_softmax_cross_entropy(labels=y_, logits=y)\n",
    "train_step = tf.train.AdamOptimizer(0.0001).minimize(cross_entropy)"
   ]
  },
  {
   "cell_type": "code",
   "execution_count": null,
   "metadata": {},
   "outputs": [],
   "source": [
    "import models\n",
    "\n",
    "x_in, y, cross_entropy, y_, _ = models.model_fn()\n",
    "\n",
    "train_step = tf.train.AdamOptimizer(0.0001).minimize(cross_entropy)"
   ]
  },
  {
   "cell_type": "code",
   "execution_count": null,
   "metadata": {},
   "outputs": [],
   "source": [
    "grap"
   ]
  },
  {
   "cell_type": "code",
   "execution_count": null,
   "metadata": {},
   "outputs": [],
   "source": [
    "y"
   ]
  },
  {
   "cell_type": "code",
   "execution_count": 11,
   "metadata": {},
   "outputs": [
    {
     "name": "stdout",
     "output_type": "stream",
     "text": [
      "1\n",
      "2\n",
      "3\n",
      "4\n",
      "5\n",
      "6\n",
      "7\n",
      "8\n",
      "9\n",
      "10\n",
      "0.9384\n",
      "INFO:tensorflow:Froze 14 variables.\n",
      "Converted 14 variables to const ops.\n"
     ]
    }
   ],
   "source": [
    "epochs = 10\n",
    "batch_size = 32\n",
    "\n",
    "N = data_trainX.shape[0]\n",
    "batch_amount = epochs*N//batch_size\n",
    "\n",
    "with tf.Session() as sess:\n",
    "    epoch_in = 1\n",
    "    tf.global_variables_initializer().run()\n",
    "    for i in range(batch_amount):\n",
    "        if (i*batch_size) % N == 0:\n",
    "            print(epoch_in)\n",
    "            #print('loss> {}'.format(sess.run(cross_entropy, feed_dict={x_in: batch_xs, y_: batch_ys})))\n",
    "            #graph = tf.get_default_graph()\n",
    "            #print(sess.run(graph.get_tensor_by_name('fc1/weight:0')))\n",
    "            epoch_in += 1\n",
    "        #batch_xs, batch_ys = mnist.train.next_batch(50)\n",
    "        batch_xs = data_trainX[range(i*batch_size % N, i*batch_size % N + batch_size)]\n",
    "        batch_ys = data_trainY[range(i*batch_size % N, i*batch_size % N + batch_size)]\n",
    "        # modified_batch_xs = reshape_batch(batch_xs)\n",
    "        sess.run(train_step, feed_dict={x_in: batch_xs, y_: batch_ys})\n",
    "    correct_prediction = tf.equal(tf.argmax(y, 1), y_)\n",
    "    accuracy = tf.reduce_mean(tf.cast(correct_prediction, tf.float32))\n",
    "    # modified_test_x = reshape_batch(test_x)\n",
    "\n",
    "    print(sess.run(accuracy, feed_dict={x_in: data_testX, y_: data_testY}))\n",
    "    output_graph_def = tf.graph_util.convert_variables_to_constants(sess, tf.get_default_graph().as_graph_def(), ['output_op']) \n",
    "    \n",
    "    saver = tf.train.Saver()\n",
    "    save_path = saver.save(sess, 'models/'+model_name+'.ckpt')\n",
    "    with tf.gfile.GFile('models/' + model_name+'.pb', \"wb\") as f:\n",
    "        f.write(output_graph_def.SerializeToString())"
   ]
  },
  {
   "cell_type": "code",
   "execution_count": null,
   "metadata": {},
   "outputs": [],
   "source": [
    "! mkdir models"
   ]
  },
  {
   "cell_type": "code",
   "execution_count": null,
   "metadata": {},
   "outputs": [],
   "source": [
    "! ls"
   ]
  },
  {
   "cell_type": "code",
   "execution_count": null,
   "metadata": {},
   "outputs": [],
   "source": []
  }
 ],
 "metadata": {
  "kernelspec": {
   "display_name": "Py3Default",
   "language": "python",
   "name": "py3default"
  },
  "language_info": {
   "codemirror_mode": {
    "name": "ipython",
    "version": 3
   },
   "file_extension": ".py",
   "mimetype": "text/x-python",
   "name": "python",
   "nbconvert_exporter": "python",
   "pygments_lexer": "ipython3",
   "version": "3.5.4"
  }
 },
 "nbformat": 4,
 "nbformat_minor": 2
}
