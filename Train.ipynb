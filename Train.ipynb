{
 "cells": [
  {
   "cell_type": "code",
   "execution_count": 1,
   "metadata": {
    "collapsed": true
   },
   "outputs": [],
   "source": [
    "import sys\n",
    "import os\n",
    "#from tensorflow.examples.tutorials.mnist import input_data\n",
    "import tensorflow as tf\n",
    "import math\n",
    "import numpy as np\n",
    "\n",
    "%load_ext autoreload\n",
    "%autoreload 2\n",
    "#import skimage.measure"
   ]
  },
  {
   "cell_type": "markdown",
   "metadata": {},
   "source": [
    "This is data loading stuff.."
   ]
  },
  {
   "cell_type": "code",
   "execution_count": null,
   "metadata": {
    "collapsed": true
   },
   "outputs": [],
   "source": [
    "#mnist = input_data.read_data_sets('./mnist_data')\n",
    "\n",
    "#model_name = \"mnist5_blue2\"\n",
    "# honeslty idk what this name was for lol\n",
    "#file_name = \"mnist5.pb\""
   ]
  },
  {
   "cell_type": "markdown",
   "metadata": {},
   "source": [
    "# Pick data set:"
   ]
  },
  {
   "cell_type": "code",
   "execution_count": 2,
   "metadata": {
    "collapsed": true
   },
   "outputs": [],
   "source": [
    "data_name = \"balanced\"\n",
    "#data_name = \"blue2-80\"\n",
    "\n",
    "#network_arch = [50, 50, 50, 50]"
   ]
  },
  {
   "cell_type": "code",
   "execution_count": 3,
   "metadata": {},
   "outputs": [],
   "source": [
    "data_train = np.load(data_name+'_train.npz')\n",
    "data_trainX = data_train['X']\n",
    "data_trainY = data_train['y']\n",
    "\n",
    "data_test = np.load(data_name+'_test.npz')\n",
    "data_testX = data_test['X']\n",
    "data_testY = data_test['y']\n",
    "\n",
    "model_name = \"network_\"+data_name"
   ]
  },
  {
   "cell_type": "code",
   "execution_count": 4,
   "metadata": {},
   "outputs": [
    {
     "data": {
      "text/plain": [
       "(60000, 28, 28, 3)"
      ]
     },
     "execution_count": 4,
     "metadata": {},
     "output_type": "execute_result"
    }
   ],
   "source": [
    "data_trainX = np.reshape(data_trainX, (-1, 28,28,3))\n",
    "data_testX = np.reshape(data_testX, (-1, 28,28,3))\n",
    "data_trainX.shape"
   ]
  },
  {
   "cell_type": "markdown",
   "metadata": {},
   "source": [
    "This is debugging stuff..."
   ]
  },
  {
   "cell_type": "code",
   "execution_count": 5,
   "metadata": {
    "collapsed": true
   },
   "outputs": [],
   "source": [
    "def weight_variable(shape):\n",
    "    initial = tf.truncated_normal(shape, stddev=0.1)\n",
    "    return tf.Variable(initial)\n",
    "\n",
    "def bias_variable(shape):\n",
    "    initial = tf.constant(0.1, shape=shape)\n",
    "    return tf.Variable(initial)\n",
    "\n",
    "def conv2d(x, W):\n",
    "    return tf.nn.conv2d(x, W, strides=[1, 1, 1, 1], padding='SAME')\n",
    "\n",
    "def reshape_batch(x):\n",
    "    modified_x = []\n",
    "    for image in x:\n",
    "        i = np.reshape(image, (28, 28))\n",
    "        modified_x.append(np.reshape(skimage.measure.block_reduce(i, (2, 2), np.max), (196)))\n",
    "    modified_x = np.array(modified_x)\n",
    "    return modified_x"
   ]
  },
  {
   "cell_type": "code",
   "execution_count": null,
   "metadata": {
    "collapsed": true
   },
   "outputs": [],
   "source": [
    "F = 5\n",
    "C = 5\n",
    "INPUT = 784*3\n",
    "OUTPUT = 10\n",
    "HFC = 50"
   ]
  },
  {
   "cell_type": "code",
   "execution_count": null,
   "metadata": {
    "collapsed": true
   },
   "outputs": [],
   "source": []
  },
  {
   "cell_type": "code",
   "execution_count": null,
   "metadata": {
    "collapsed": true
   },
   "outputs": [],
   "source": []
  },
  {
   "cell_type": "code",
   "execution_count": null,
   "metadata": {
    "collapsed": true
   },
   "outputs": [],
   "source": [
    "x_in = tf.placeholder(tf.float32, [None, INPUT], name='input_op')\n",
    "\n",
    "# W_conv = weight_variable([F, F, 1, C])\n",
    "# b_conv = bias_variable([C])\n",
    "\n",
    "#W_fc = weight_variable([INPUT, HFC])\n",
    "#b_fc = bias_variable([HFC])\n",
    "\n",
    "#W_o = weight_variable([HFC, OUTPUT])\n",
    "#b_o = bias_variable([OUTPUT])\n",
    "\n",
    "W_fc = weight_variable([INPUT, HFC])\n",
    "b_fc = bias_variable([HFC])\n",
    "\n",
    "W_fc1 = weight_variable([HFC, HFC])\n",
    "b_fc1 = bias_variable([HFC])\n",
    "\n",
    "W_fc2 = weight_variable([HFC, HFC])\n",
    "b_fc2 = bias_variable([HFC])\n",
    "\n",
    "W_fc3 = weight_variable([HFC, HFC])\n",
    "b_fc3 = bias_variable([HFC])\n",
    "\n",
    "W_fc4 = weight_variable([HFC, HFC])\n",
    "b_fc4 = bias_variable([HFC])\n",
    "\n",
    "W_fc5 = weight_variable([HFC, HFC])\n",
    "b_fc5 = bias_variable([HFC])\n",
    "\n",
    "\n",
    "\n",
    "W_o = weight_variable([HFC, OUTPUT])\n",
    "b_o = bias_variable([OUTPUT])\n",
    "\n",
    "\n",
    "\n",
    "\n",
    "\n",
    "#x_image = tf.reshape(x_in, [-1, int(math.sqrt(INPUT)), int(math.sqrt(INPUT)), 1])\n",
    "\n",
    "# h_conv = tf.reshape(tf.nn.relu(conv2d(x_image, W_conv) + b_conv), [-1, INPUT*C])\n",
    "\n",
    "\n",
    "h_fc = tf.nn.relu(tf.add(tf.matmul(x_in, W_fc), b_fc))\n",
    "h_fc1 = tf.nn.relu(tf.add(tf.matmul(h_fc, W_fc1), b_fc1))\n",
    "h_fc2 = tf.nn.relu(tf.add(tf.matmul(h_fc1, W_fc2), b_fc2))\n",
    "h_fc3 = tf.nn.relu(tf.add(tf.matmul(h_fc2, W_fc3), b_fc3))\n",
    "h_fc4 = tf.nn.relu(tf.add(tf.matmul(h_fc3, W_fc4), b_fc4))\n",
    "h_fc5 = tf.nn.relu(tf.add(tf.matmul(h_fc4, W_fc5), b_fc5))\n",
    "\n",
    "\n",
    "y = tf.add(tf.matmul(h_fc5, W_o), b_o, name=\"output_op\")\n",
    "\n",
    "y_ = tf.placeholder(tf.int64, [None])\n",
    "cross_entropy = tf.losses.sparse_softmax_cross_entropy(labels=y_, logits=y)\n",
    "train_step = tf.train.AdamOptimizer(0.0001).minimize(cross_entropy)"
   ]
  },
  {
   "cell_type": "code",
   "execution_count": 6,
   "metadata": {},
   "outputs": [],
   "source": [
    "network_arch = \"5x50\"\n",
    "model_name += \"_\"+network_arch+\"HOPE3\""
   ]
  },
  {
   "cell_type": "code",
   "execution_count": 7,
   "metadata": {},
   "outputs": [
    {
     "data": {
      "text/plain": [
       "'network_balanced_5x50HOPE3'"
      ]
     },
     "execution_count": 7,
     "metadata": {},
     "output_type": "execute_result"
    }
   ],
   "source": [
    "model_name"
   ]
  },
  {
   "cell_type": "markdown",
   "metadata": {},
   "source": [
    "This is really what you need to use to train. We will use the models stored in the `models.py` file, not the debugging shit above. "
   ]
  },
  {
   "cell_type": "code",
   "execution_count": 9,
   "metadata": {},
   "outputs": [
    {
     "name": "stdout",
     "output_type": "stream",
     "text": [
      "WARNING:tensorflow:From /Users/christopherlazarus/anaconda2/envs/python3default/lib/python3.5/site-packages/tensorflow/python/framework/op_def_library.py:263: colocate_with (from tensorflow.python.framework.ops) is deprecated and will be removed in a future version.\n",
      "Instructions for updating:\n",
      "Colocations handled automatically by placer.\n",
      "WARNING:tensorflow:From /Users/christopherlazarus/anaconda2/envs/python3default/lib/python3.5/site-packages/tensorflow/python/ops/losses/losses_impl.py:209: to_float (from tensorflow.python.ops.math_ops) is deprecated and will be removed in a future version.\n",
      "Instructions for updating:\n",
      "Use tf.cast instead.\n"
     ]
    }
   ],
   "source": [
    "import models\n",
    "x_in, y, cross_entropy, y_, _ = models.model_fn()\n",
    "train_step = tf.train.AdamOptimizer(0.0001).minimize(cross_entropy)"
   ]
  },
  {
   "cell_type": "markdown",
   "metadata": {},
   "source": [
    "## Training loop is here\n",
    "\n",
    "Assumes `data_trainX` and `data_trainY` are already loaded, and `model_name` is set. \n",
    "\n",
    "The network checkpoint (i.e. the weights) are saved to `'models/'+model_name+'.ckpt'` "
   ]
  },
  {
   "cell_type": "code",
   "execution_count": 10,
   "metadata": {},
   "outputs": [
    {
     "name": "stdout",
     "output_type": "stream",
     "text": [
      "1\n",
      "2\n",
      "3\n",
      "4\n",
      "5\n",
      "6\n",
      "7\n",
      "8\n",
      "9\n",
      "10\n",
      "0.9313\n",
      "before checkpoint\n",
      "WARNING:tensorflow:From <ipython-input-10-d15413b7afd3>:35: convert_variables_to_constants (from tensorflow.python.framework.graph_util_impl) is deprecated and will be removed in a future version.\n",
      "Instructions for updating:\n",
      "Use tf.compat.v1.graph_util.convert_variables_to_constants\n",
      "WARNING:tensorflow:From /Users/christopherlazarus/anaconda2/envs/python3default/lib/python3.5/site-packages/tensorflow/python/framework/graph_util_impl.py:245: extract_sub_graph (from tensorflow.python.framework.graph_util_impl) is deprecated and will be removed in a future version.\n",
      "Instructions for updating:\n",
      "Use tf.compat.v1.graph_util.extract_sub_graph\n",
      "INFO:tensorflow:Froze 14 variables.\n",
      "INFO:tensorflow:Converted 14 variables to const ops.\n"
     ]
    }
   ],
   "source": [
    "epochs = 10\n",
    "batch_size = 32\n",
    "\n",
    "N = data_trainX.shape[0]\n",
    "batch_amount = epochs*N//batch_size\n",
    "\n",
    "with tf.Session() as sess:\n",
    "    epoch_in = 1\n",
    "    tf.global_variables_initializer().run()\n",
    "    for i in range(batch_amount):\n",
    "        if (i*batch_size) % N == 0:\n",
    "            print(epoch_in)\n",
    "            #print('loss> {}'.format(sess.run(cross_entropy, feed_dict={x_in: batch_xs, y_: batch_ys})))\n",
    "            #graph = tf.get_default_graph()\n",
    "            #print(sess.run(graph.get_tensor_by_name('fc1/weight:0')))\n",
    "            epoch_in += 1\n",
    "        #batch_xs, batch_ys = mnist.train.next_batch(50)\n",
    "        batch_xs = data_trainX[range(i*batch_size % N, i*batch_size % N + batch_size)]\n",
    "        batch_ys = data_trainY[range(i*batch_size % N, i*batch_size % N + batch_size)]\n",
    "        # modified_batch_xs = reshape_batch(batch_xs)\n",
    "        sess.run(train_step, feed_dict={x_in: batch_xs, y_: batch_ys})\n",
    "    correct_prediction = tf.equal(tf.argmax(y, 1), y_)\n",
    "    accuracy = tf.reduce_mean(tf.cast(correct_prediction, tf.float32))\n",
    "    # modified_test_x = reshape_batch(test_x)\n",
    "\n",
    "    print(sess.run(accuracy, feed_dict={x_in: data_testX, y_: data_testY}))\n",
    "    \n",
    "    print(\"before checkpoint\")\n",
    "    \n",
    "    # Save the weights of the trained network. \n",
    "    saver = tf.train.Saver()\n",
    "    save_path = saver.save(sess, 'models/'+model_name+'.ckpt')\n",
    "  \n",
    "    ## This is Chris's weird protobuf convert parse save idkwtfsmh thing...\n",
    "    output_graph_def = tf.graph_util.convert_variables_to_constants(sess, tf.get_default_graph().as_graph_def(), ['output_op'])\n",
    "    with tf.gfile.GFile('models/' + model_name+'.pb', \"wb\") as f:\n",
    "        f.write(output_graph_def.SerializeToString())\n",
    "    "
   ]
  },
  {
   "cell_type": "code",
   "execution_count": null,
   "metadata": {
    "collapsed": true
   },
   "outputs": [],
   "source": []
  },
  {
   "cell_type": "code",
   "execution_count": null,
   "metadata": {
    "collapsed": true
   },
   "outputs": [],
   "source": []
  },
  {
   "cell_type": "code",
   "execution_count": null,
   "metadata": {},
   "outputs": [],
   "source": [
    "model_name"
   ]
  },
  {
   "cell_type": "markdown",
   "metadata": {},
   "source": [
    "- blue2-80-5x50 acc: .9342\n",
    "- balanced_5x50 acc: .9448\n",
    "\n",
    "- balanced_3x50 acc: .9399\n",
    "- blue2-80_3x50:acc: .9407\n",
    "\n",
    "- blue2-80_3x20 acc: .8912\n",
    "- balanced_3x20 acc: .8832\n",
    "\n"
   ]
  },
  {
   "cell_type": "code",
   "execution_count": null,
   "metadata": {
    "collapsed": true
   },
   "outputs": [],
   "source": []
  }
 ],
 "metadata": {
  "kernelspec": {
   "display_name": "Py3Default",
   "language": "python",
   "name": "py3default"
  },
  "language_info": {
   "codemirror_mode": {
    "name": "ipython",
    "version": 3
   },
   "file_extension": ".py",
   "mimetype": "text/x-python",
   "name": "python",
   "nbconvert_exporter": "python",
   "pygments_lexer": "ipython3",
   "version": "3.5.4"
  }
 },
 "nbformat": 4,
 "nbformat_minor": 2
}
