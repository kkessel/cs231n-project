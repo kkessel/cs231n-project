{
 "cells": [
  {
   "cell_type": "code",
   "execution_count": 10,
   "metadata": {},
   "outputs": [],
   "source": [
    "import sys\n",
    "import os\n",
    "#from tensorflow.examples.tutorials.mnist import input_data\n",
    "import tensorflow as tf\n",
    "import math\n",
    "import numpy as np\n",
    "import pandas as pd\n",
    "\n",
    "%load_ext autoreload\n",
    "%autoreload 2\n",
    "#import skimage.measure"
   ]
  },
  {
   "cell_type": "markdown",
   "metadata": {},
   "source": [
    "This is data loading stuff.."
   ]
  },
  {
   "cell_type": "code",
   "execution_count": 71,
   "metadata": {
    "collapsed": true
   },
   "outputs": [],
   "source": [
    "#mnist = input_data.read_data_sets('./mnist_data')\n",
    "\n",
    "#model_name = \"mnist5_blue2\"\n",
    "# honeslty idk what this name was for lol\n",
    "#file_name = \"mnist5.pb\""
   ]
  },
  {
   "cell_type": "markdown",
   "metadata": {},
   "source": [
    "# Pick data set:"
   ]
  },
  {
   "cell_type": "code",
   "execution_count": 120,
   "metadata": {
    "collapsed": true
   },
   "outputs": [],
   "source": [
    "#data_name = \"balanced\"\n",
    "#data_name = \"blue2-80\"\n",
    "\n",
    "#data_name = \"balanced-100\"\n",
    "data_name = \"blue2-100\"\n",
    "\n",
    "\n",
    "#network_arch = [50, 50, 50, 50]"
   ]
  },
  {
   "cell_type": "code",
   "execution_count": 121,
   "metadata": {},
   "outputs": [],
   "source": [
    "data_train = np.load(data_name+'_train.npz')\n",
    "data_trainX = data_train['X']\n",
    "data_trainY = data_train['y']\n",
    "\n",
    "data_test = np.load(data_name+'_test.npz')\n",
    "data_testX = data_test['X']\n",
    "data_testY = data_test['y']\n",
    "\n"
   ]
  },
  {
   "cell_type": "code",
   "execution_count": 122,
   "metadata": {},
   "outputs": [
    {
     "data": {
      "text/plain": [
       "(60000, 28, 28, 3)"
      ]
     },
     "execution_count": 122,
     "metadata": {},
     "output_type": "execute_result"
    }
   ],
   "source": [
    "data_trainX = np.reshape(data_trainX, (-1, 28,28,3))\n",
    "data_testX = np.reshape(data_testX, (-1, 28,28,3))\n",
    "data_trainX.shape"
   ]
  },
  {
   "cell_type": "markdown",
   "metadata": {},
   "source": [
    "This is debugging stuff..."
   ]
  },
  {
   "cell_type": "code",
   "execution_count": 97,
   "metadata": {
    "collapsed": true
   },
   "outputs": [],
   "source": [
    "def weight_variable(shape):\n",
    "    initial = tf.truncated_normal(shape, stddev=0.1)\n",
    "    return tf.Variable(initial)\n",
    "\n",
    "def bias_variable(shape):\n",
    "    initial = tf.constant(0.1, shape=shape)\n",
    "    return tf.Variable(initial)\n",
    "\n",
    "def conv2d(x, W):\n",
    "    return tf.nn.conv2d(x, W, strides=[1, 1, 1, 1], padding='SAME')\n",
    "\n",
    "def reshape_batch(x):\n",
    "    modified_x = []\n",
    "    for image in x:\n",
    "        i = np.reshape(image, (28, 28))\n",
    "        modified_x.append(np.reshape(skimage.measure.block_reduce(i, (2, 2), np.max), (196)))\n",
    "    modified_x = np.array(modified_x)\n",
    "    return modified_x"
   ]
  },
  {
   "cell_type": "code",
   "execution_count": null,
   "metadata": {
    "collapsed": true
   },
   "outputs": [],
   "source": []
  },
  {
   "cell_type": "code",
   "execution_count": null,
   "metadata": {
    "collapsed": true
   },
   "outputs": [],
   "source": []
  },
  {
   "cell_type": "code",
   "execution_count": 123,
   "metadata": {
    "collapsed": true
   },
   "outputs": [],
   "source": [
    "model_name = \"network_\"+data_name\n",
    "network_arch = \"3x20\"\n",
    "model_name += \"_\"+network_arch"
   ]
  },
  {
   "cell_type": "code",
   "execution_count": 124,
   "metadata": {},
   "outputs": [
    {
     "data": {
      "text/plain": [
       "'network_blue2-100_3x20'"
      ]
     },
     "execution_count": 124,
     "metadata": {},
     "output_type": "execute_result"
    }
   ],
   "source": [
    "model_name"
   ]
  },
  {
   "cell_type": "markdown",
   "metadata": {},
   "source": [
    "This is really what you need to use to train. We will use the models stored in the `models.py` file, not the debugging shit above. "
   ]
  },
  {
   "cell_type": "code",
   "execution_count": 125,
   "metadata": {
    "collapsed": true
   },
   "outputs": [],
   "source": [
    "import models\n",
    "tf.reset_default_graph()\n",
    "x_in, y, cross_entropy, y_ = models.model_fn([20,20,20])\n",
    "#x_in, y, cross_entropy, y_, _ = models.model_fn_oldold()\n",
    "train_step = tf.train.AdamOptimizer(0.0001).minimize(cross_entropy)\n"
   ]
  },
  {
   "cell_type": "markdown",
   "metadata": {},
   "source": [
    "## Training loop is here\n",
    "\n",
    "Assumes `data_trainX` and `data_trainY` are already loaded, and `model_name` is set. \n",
    "\n",
    "The network checkpoint (i.e. the weights) are saved to `'models/'+model_name+'.ckpt'` "
   ]
  },
  {
   "cell_type": "code",
   "execution_count": 126,
   "metadata": {},
   "outputs": [
    {
     "name": "stdout",
     "output_type": "stream",
     "text": [
      "1\n",
      "2\n",
      "3\n",
      "4\n",
      "5\n",
      "6\n",
      "7\n",
      "8\n",
      "9\n",
      "10\n",
      "0.9217\n",
      "before checkpoint\n",
      "INFO:tensorflow:Froze 8 variables.\n",
      "INFO:tensorflow:Converted 8 variables to const ops.\n"
     ]
    }
   ],
   "source": [
    "epochs = 10\n",
    "batch_size = 32\n",
    "\n",
    "N = data_trainX.shape[0]\n",
    "batch_amount = epochs*N//batch_size\n",
    "\n",
    "with tf.Session() as sess:\n",
    "    epoch_in = 1\n",
    "    tf.global_variables_initializer().run()\n",
    "    for i in range(batch_amount):\n",
    "        if (i*batch_size) % N == 0:\n",
    "            print(epoch_in)\n",
    "            #print('loss> {}'.format(sess.run(cross_entropy, feed_dict={x_in: batch_xs, y_: batch_ys})))\n",
    "            #graph = tf.get_default_graph()\n",
    "            #print(sess.run(graph.get_tensor_by_name('fc1/weight:0')))\n",
    "            epoch_in += 1\n",
    "        #batch_xs, batch_ys = mnist.train.next_batch(50)\n",
    "        batch_xs = data_trainX[range(i*batch_size % N, i*batch_size % N + batch_size)]\n",
    "        batch_ys = data_trainY[range(i*batch_size % N, i*batch_size % N + batch_size)]\n",
    "        # modified_batch_xs = reshape_batch(batch_xs)\n",
    "        sess.run(train_step, feed_dict={x_in: batch_xs, y_: batch_ys})\n",
    "    correct_prediction = tf.equal(tf.argmax(y, 1), y_)\n",
    "    accuracy = tf.reduce_mean(tf.cast(correct_prediction, tf.float32))\n",
    "    # modified_test_x = reshape_batch(test_x)\n",
    "\n",
    "    print(sess.run(accuracy, feed_dict={x_in: data_testX, y_: data_testY}))\n",
    "    \n",
    "    print(\"before checkpoint\")\n",
    "    \n",
    "    # Save the weights of the trained network. \n",
    "    saver = tf.train.Saver()\n",
    "    save_path = saver.save(sess, 'models/'+model_name+'.ckpt')\n",
    "  \n",
    "    ## This is Chris's weird protobuf convert parse save idkwtfsmh thing...\n",
    "    output_graph_def = tf.graph_util.convert_variables_to_constants(sess, tf.get_default_graph().as_graph_def(), ['output_op'])\n",
    "    with tf.gfile.GFile('models/' + model_name+'.pb', \"wb\") as f:\n",
    "        f.write(output_graph_def.SerializeToString())\n",
    "    "
   ]
  },
  {
   "cell_type": "markdown",
   "metadata": {
    "collapsed": true
   },
   "source": [
    "# Validation runs on the models"
   ]
  },
  {
   "cell_type": "code",
   "execution_count": 9,
   "metadata": {},
   "outputs": [],
   "source": [
    "import models"
   ]
  },
  {
   "cell_type": "code",
   "execution_count": 25,
   "metadata": {},
   "outputs": [
    {
     "name": "stdout",
     "output_type": "stream",
     "text": [
      "INFO:tensorflow:Restoring parameters from models/network_balanced-100_5x50.ckpt\n",
      "Restored this checkpoint yay\n",
      "0.9423999786376953 accuracy on balanced\n",
      "INFO:tensorflow:Restoring parameters from models/network_balanced-100_5x50.ckpt\n",
      "Restored this checkpoint yay\n",
      "0.9419999718666077 accuracy on blue2\n",
      "INFO:tensorflow:Restoring parameters from models/network_balanced-100_5x50.ckpt\n",
      "Restored this checkpoint yay\n",
      "0.9408000111579895 accuracy on red2\n",
      "INFO:tensorflow:Restoring parameters from models/network_balanced-100_5x50.ckpt\n",
      "Restored this checkpoint yay\n",
      "0.9440000057220459 accuracy on green2\n",
      "INFO:tensorflow:Restoring parameters from models/network_blue2-100_5x50.ckpt\n",
      "Restored this checkpoint yay\n",
      "0.7299000024795532 accuracy on balanced\n",
      "INFO:tensorflow:Restoring parameters from models/network_blue2-100_5x50.ckpt\n",
      "Restored this checkpoint yay\n",
      "0.9520000219345093 accuracy on blue2\n",
      "INFO:tensorflow:Restoring parameters from models/network_blue2-100_5x50.ckpt\n",
      "Restored this checkpoint yay\n",
      "0.6815000176429749 accuracy on red2\n",
      "INFO:tensorflow:Restoring parameters from models/network_blue2-100_5x50.ckpt\n",
      "Restored this checkpoint yay\n",
      "0.6894000172615051 accuracy on green2\n",
      "INFO:tensorflow:Restoring parameters from models/network_balanced-100_3x50.ckpt\n",
      "Restored this checkpoint yay\n",
      "0.9422000050544739 accuracy on balanced\n",
      "INFO:tensorflow:Restoring parameters from models/network_balanced-100_3x50.ckpt\n",
      "Restored this checkpoint yay\n",
      "0.9401999711990356 accuracy on blue2\n",
      "INFO:tensorflow:Restoring parameters from models/network_balanced-100_3x50.ckpt\n",
      "Restored this checkpoint yay\n",
      "0.9415000081062317 accuracy on red2\n",
      "INFO:tensorflow:Restoring parameters from models/network_balanced-100_3x50.ckpt\n",
      "Restored this checkpoint yay\n",
      "0.9409000277519226 accuracy on green2\n",
      "INFO:tensorflow:Restoring parameters from models/network_blue2-100_3x50.ckpt\n",
      "Restored this checkpoint yay\n",
      "0.724399983882904 accuracy on balanced\n",
      "INFO:tensorflow:Restoring parameters from models/network_blue2-100_3x50.ckpt\n",
      "Restored this checkpoint yay\n",
      "0.954200029373169 accuracy on blue2\n",
      "INFO:tensorflow:Restoring parameters from models/network_blue2-100_3x50.ckpt\n",
      "Restored this checkpoint yay\n",
      "0.675000011920929 accuracy on red2\n",
      "INFO:tensorflow:Restoring parameters from models/network_blue2-100_3x50.ckpt\n",
      "Restored this checkpoint yay\n",
      "0.6837999820709229 accuracy on green2\n",
      "INFO:tensorflow:Restoring parameters from models/network_balanced-100_3x20.ckpt\n",
      "Restored this checkpoint yay\n",
      "0.8895999789237976 accuracy on balanced\n",
      "INFO:tensorflow:Restoring parameters from models/network_balanced-100_3x20.ckpt\n",
      "Restored this checkpoint yay\n",
      "0.8888999819755554 accuracy on blue2\n",
      "INFO:tensorflow:Restoring parameters from models/network_balanced-100_3x20.ckpt\n",
      "Restored this checkpoint yay\n",
      "0.8913999795913696 accuracy on red2\n",
      "INFO:tensorflow:Restoring parameters from models/network_balanced-100_3x20.ckpt\n",
      "Restored this checkpoint yay\n",
      "0.8877999782562256 accuracy on green2\n",
      "INFO:tensorflow:Restoring parameters from models/network_blue2-100_3x20.ckpt\n",
      "Restored this checkpoint yay\n",
      "0.7081999778747559 accuracy on balanced\n",
      "INFO:tensorflow:Restoring parameters from models/network_blue2-100_3x20.ckpt\n",
      "Restored this checkpoint yay\n",
      "0.9225000143051147 accuracy on blue2\n",
      "INFO:tensorflow:Restoring parameters from models/network_blue2-100_3x20.ckpt\n",
      "Restored this checkpoint yay\n",
      "0.6633999943733215 accuracy on red2\n",
      "INFO:tensorflow:Restoring parameters from models/network_blue2-100_3x20.ckpt\n",
      "Restored this checkpoint yay\n",
      "0.6717000007629395 accuracy on green2\n"
     ]
    }
   ],
   "source": [
    "d = {'model': ['balanced-100_5x50', 'blue2-100_5x50', \n",
    "               'balanced-100_3x50', 'blue2-100_3x50', \n",
    "               'balanced-100_3x20', 'blue2-100_3x20'],\n",
    "     'balanced':[0.9424,0,\n",
    "                 0.9406,0,\n",
    "                  0.887,0],\n",
    "     'blue2':   [0.942,0.9527,\n",
    "                 0,0.9406,\n",
    "                 0,0.9217],\n",
    "     'red2':    [0.9408,0,\n",
    "                 0,0,\n",
    "                 0,0],\n",
    "     'green2':  [0,0,\n",
    "                 0,0,\n",
    "                 0,0]}\n",
    "\n",
    "architectures = [5*[50], 5*[50], 3*[50], 3*[50], 3*[20], 3*[20]]\n",
    "ckpt_paths = ['models/network_balanced-100_5x50.ckpt',\n",
    "              'models/network_blue2-100_5x50.ckpt',\n",
    "              'models/network_balanced-100_3x50.ckpt',\n",
    "              'models/network_blue2-100_3x50.ckpt',\n",
    "              'models/network_balanced-100_3x20.ckpt',\n",
    "              'models/network_blue2-100_3x20.ckpt']\n",
    "for j, ckpt in enumerate(ckpt_paths):\n",
    "  tf.reset_default_graph()\n",
    "  x_in, y, cross_entropy, y_ = models.model_fn(architectures[j])\n",
    "\n",
    "  # Load the data\n",
    "  datasets = {'balanced':'balanced_test.npz', \n",
    "            'blue2':'blue2_test.npz', \n",
    "            'red2':'red2_test.npz', \n",
    "            'green2':'green2_test.npz'}\n",
    "  for data,file in datasets.items():\n",
    "    npzfile = np.load(file)\n",
    "    data_testY = npzfile['y']\n",
    "    data_testX = npzfile['X']\n",
    "    data_testX = np.reshape(data_testX, (-1, 28,28,3))\n",
    "\n",
    "    with tf.Session() as sess:\n",
    "      sess.run(tf.global_variables_initializer())\n",
    "      saver = tf.train.Saver()\n",
    "      saver.restore(sess, ckpt)\n",
    "      print(\"Restored this checkpoint yay\")\n",
    "\n",
    "      correct_prediction = tf.equal(tf.argmax(y, 1), y_)\n",
    "      accuracy = tf.reduce_mean(tf.cast(correct_prediction, tf.float32))\n",
    "      model_acc = sess.run(accuracy, feed_dict={x_in: data_testX, y_: data_testY})\n",
    "      print(\"{} accuracy on {}\".format(model_acc, data))\n",
    "      d[data][j] = model_acc"
   ]
  },
  {
   "cell_type": "code",
   "execution_count": 31,
   "metadata": {},
   "outputs": [
    {
     "name": "stdout",
     "output_type": "stream",
     "text": [
      "\\begin{tabular}{llrrrr}\n",
      "\\toprule\n",
      "{} &              model &  balanced &   blue2 &    red2 &  green2 \\\\\n",
      "\\midrule\n",
      "0 &  balanced-100\\_5x50 &    0.9424 &  0.9420 &  0.9408 &  0.9440 \\\\\n",
      "1 &     blue2-100\\_5x50 &    0.7299 &  0.9520 &  0.6815 &  0.6894 \\\\\n",
      "2 &  balanced-100\\_3x50 &    0.9422 &  0.9402 &  0.9415 &  0.9409 \\\\\n",
      "3 &     blue2-100\\_3x50 &    0.7244 &  0.9542 &  0.6750 &  0.6838 \\\\\n",
      "4 &  balanced-100\\_3x20 &    0.8896 &  0.8889 &  0.8914 &  0.8878 \\\\\n",
      "5 &     blue2-100\\_3x20 &    0.7082 &  0.9225 &  0.6634 &  0.6717 \\\\\n",
      "\\bottomrule\n",
      "\\end{tabular}\n",
      "\n"
     ]
    },
    {
     "data": {
      "text/html": [
       "<div>\n",
       "<style scoped>\n",
       "    .dataframe tbody tr th:only-of-type {\n",
       "        vertical-align: middle;\n",
       "    }\n",
       "\n",
       "    .dataframe tbody tr th {\n",
       "        vertical-align: top;\n",
       "    }\n",
       "\n",
       "    .dataframe thead th {\n",
       "        text-align: right;\n",
       "    }\n",
       "</style>\n",
       "<table border=\"1\" class=\"dataframe\">\n",
       "  <thead>\n",
       "    <tr style=\"text-align: right;\">\n",
       "      <th></th>\n",
       "      <th>model</th>\n",
       "      <th>balanced</th>\n",
       "      <th>blue2</th>\n",
       "      <th>red2</th>\n",
       "      <th>green2</th>\n",
       "    </tr>\n",
       "  </thead>\n",
       "  <tbody>\n",
       "    <tr>\n",
       "      <th>0</th>\n",
       "      <td>balanced-100_5x50</td>\n",
       "      <td>0.9424</td>\n",
       "      <td>0.9420</td>\n",
       "      <td>0.9408</td>\n",
       "      <td>0.9440</td>\n",
       "    </tr>\n",
       "    <tr>\n",
       "      <th>1</th>\n",
       "      <td>blue2-100_5x50</td>\n",
       "      <td>0.7299</td>\n",
       "      <td>0.9520</td>\n",
       "      <td>0.6815</td>\n",
       "      <td>0.6894</td>\n",
       "    </tr>\n",
       "    <tr>\n",
       "      <th>2</th>\n",
       "      <td>balanced-100_3x50</td>\n",
       "      <td>0.9422</td>\n",
       "      <td>0.9402</td>\n",
       "      <td>0.9415</td>\n",
       "      <td>0.9409</td>\n",
       "    </tr>\n",
       "    <tr>\n",
       "      <th>3</th>\n",
       "      <td>blue2-100_3x50</td>\n",
       "      <td>0.7244</td>\n",
       "      <td>0.9542</td>\n",
       "      <td>0.6750</td>\n",
       "      <td>0.6838</td>\n",
       "    </tr>\n",
       "    <tr>\n",
       "      <th>4</th>\n",
       "      <td>balanced-100_3x20</td>\n",
       "      <td>0.8896</td>\n",
       "      <td>0.8889</td>\n",
       "      <td>0.8914</td>\n",
       "      <td>0.8878</td>\n",
       "    </tr>\n",
       "    <tr>\n",
       "      <th>5</th>\n",
       "      <td>blue2-100_3x20</td>\n",
       "      <td>0.7082</td>\n",
       "      <td>0.9225</td>\n",
       "      <td>0.6634</td>\n",
       "      <td>0.6717</td>\n",
       "    </tr>\n",
       "  </tbody>\n",
       "</table>\n",
       "</div>"
      ],
      "text/plain": [
       "               model  balanced   blue2    red2  green2\n",
       "0  balanced-100_5x50    0.9424  0.9420  0.9408  0.9440\n",
       "1     blue2-100_5x50    0.7299  0.9520  0.6815  0.6894\n",
       "2  balanced-100_3x50    0.9422  0.9402  0.9415  0.9409\n",
       "3     blue2-100_3x50    0.7244  0.9542  0.6750  0.6838\n",
       "4  balanced-100_3x20    0.8896  0.8889  0.8914  0.8878\n",
       "5     blue2-100_3x20    0.7082  0.9225  0.6634  0.6717"
      ]
     },
     "execution_count": 31,
     "metadata": {},
     "output_type": "execute_result"
    }
   ],
   "source": [
    "df = pd.DataFrame(data=d)\n",
    "print(df.to_latex())\n",
    "df"
   ]
  },
  {
   "cell_type": "code",
   "execution_count": 127,
   "metadata": {},
   "outputs": [
    {
     "data": {
      "text/plain": [
       "'network_blue2-100_3x20'"
      ]
     },
     "execution_count": 127,
     "metadata": {},
     "output_type": "execute_result"
    }
   ],
   "source": [
    "model_name"
   ]
  },
  {
   "cell_type": "markdown",
   "metadata": {},
   "source": [
    "- balanced-100_5x50 acc: 0.9421\n",
    "- blue2-100_5x50 acc: 0.9527\n",
    "\n",
    "- balanced-100_3x50 acc: 0.9406\n",
    "- blue2-100_3x50 acc: 0.955\n",
    "\n",
    "- balanced-100_3x20 acc: 0.887\n",
    "- blue2-100_3x20 acc: 0.9217"
   ]
  },
  {
   "cell_type": "code",
   "execution_count": null,
   "metadata": {
    "collapsed": true
   },
   "outputs": [],
   "source": []
  },
  {
   "cell_type": "markdown",
   "metadata": {},
   "source": [
    "- balanced_5x50 acc: 0.9354\n",
    "- blue2-80_5x50 acc: 0.9406\n",
    "\n",
    "\n",
    "- balanced_3x50 acc: 0.9379\n",
    "- blue2-80_3x50:acc: 0.942\n",
    "\n",
    "\n",
    "- balanced_3x20 acc: 0.9046\n",
    "- blue2-80_3x20 acc: 0.907\n",
    "\n",
    "\n"
   ]
  },
  {
   "cell_type": "code",
   "execution_count": null,
   "metadata": {
    "collapsed": true
   },
   "outputs": [],
   "source": []
  }
 ],
 "metadata": {
  "kernelspec": {
   "display_name": "TCAV",
   "language": "python",
   "name": "tcav"
  },
  "language_info": {
   "codemirror_mode": {
    "name": "ipython",
    "version": 3
   },
   "file_extension": ".py",
   "mimetype": "text/x-python",
   "name": "python",
   "nbconvert_exporter": "python",
   "pygments_lexer": "ipython3",
   "version": "3.7.3"
  }
 },
 "nbformat": 4,
 "nbformat_minor": 2
}
