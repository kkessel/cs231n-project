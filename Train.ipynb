{
 "cells": [
  {
   "cell_type": "code",
   "execution_count": 1,
   "metadata": {},
   "outputs": [],
   "source": [
    "import sys\n",
    "import os\n",
    "#from tensorflow.examples.tutorials.mnist import input_data\n",
    "import tensorflow as tf\n",
    "import math\n",
    "import numpy as np\n",
    "#import skimage.measure"
   ]
  },
  {
   "cell_type": "code",
   "execution_count": 2,
   "metadata": {},
   "outputs": [],
   "source": [
    "#mnist = input_data.read_data_sets('./mnist_data')\n",
    "model_name = \"mnist5_balanced\"\n",
    "model_name = \"mnist5_blue2\"\n",
    "\n",
    "def weight_variable(shape):\n",
    "    initial = tf.truncated_normal(shape, stddev=0.1)\n",
    "    return tf.Variable(initial)\n",
    "\n",
    "def bias_variable(shape):\n",
    "    initial = tf.constant(0.1, shape=shape)\n",
    "    return tf.Variable(initial)\n",
    "\n",
    "def conv2d(x, W):\n",
    "    return tf.nn.conv2d(x, W, strides=[1, 1, 1, 1], padding='SAME')\n",
    "\n",
    "def reshape_batch(x):\n",
    "    modified_x = []\n",
    "    for image in x:\n",
    "        i = np.reshape(image, (28, 28))\n",
    "        modified_x.append(np.reshape(skimage.measure.block_reduce(i, (2, 2), np.max), (196)))\n",
    "    modified_x = np.array(modified_x)\n",
    "    return modified_x"
   ]
  },
  {
   "cell_type": "code",
   "execution_count": 3,
   "metadata": {},
   "outputs": [],
   "source": [
    "data_train = np.load('blue2_train.npz')\n",
    "data_trainX = data_train['X']\n",
    "data_trainY = data_train['y']\n",
    "data_test = np.load('blue2_test.npz')\n",
    "data_testX = data_test['X']\n",
    "data_testY = data_test['y']"
   ]
  },
  {
   "cell_type": "code",
   "execution_count": 4,
   "metadata": {},
   "outputs": [
    {
     "data": {
      "text/plain": [
       "(10000, 2352)"
      ]
     },
     "execution_count": 4,
     "metadata": {},
     "output_type": "execute_result"
    }
   ],
   "source": [
    "data_test['X'].shape"
   ]
  },
  {
   "cell_type": "code",
   "execution_count": 5,
   "metadata": {},
   "outputs": [
    {
     "data": {
      "text/plain": [
       "(10000,)"
      ]
     },
     "execution_count": 5,
     "metadata": {},
     "output_type": "execute_result"
    }
   ],
   "source": [
    "data_test['y'].shape"
   ]
  },
  {
   "cell_type": "code",
   "execution_count": 6,
   "metadata": {},
   "outputs": [
    {
     "data": {
      "text/plain": [
       "(60000,)"
      ]
     },
     "execution_count": 6,
     "metadata": {},
     "output_type": "execute_result"
    }
   ],
   "source": [
    "data_train['y'].shape"
   ]
  },
  {
   "cell_type": "code",
   "execution_count": 7,
   "metadata": {},
   "outputs": [
    {
     "data": {
      "text/plain": [
       "(10000, 28, 28, 3)"
      ]
     },
     "execution_count": 7,
     "metadata": {},
     "output_type": "execute_result"
    }
   ],
   "source": [
    "data_testX = np.reshape(data_testX, (-1, 28,28,3))\n",
    "data_testX.shape"
   ]
  },
  {
   "cell_type": "code",
   "execution_count": 8,
   "metadata": {},
   "outputs": [
    {
     "data": {
      "text/plain": [
       "(60000, 28, 28, 3)"
      ]
     },
     "execution_count": 8,
     "metadata": {},
     "output_type": "execute_result"
    }
   ],
   "source": [
    "data_trainX = np.reshape(data_trainX, (-1, 28,28,3))\n",
    "data_trainX.shape"
   ]
  },
  {
   "cell_type": "code",
   "execution_count": 8,
   "metadata": {},
   "outputs": [],
   "source": [
    "#mnist = input_data.read_data_sets('./mnist_data')\n",
    "file_name = \"mnist5.pb\"\n",
    "\n",
    "def weight_variable(shape):\n",
    "    initial = tf.truncated_normal(shape, stddev=0.1)\n",
    "    return tf.Variable(initial)\n",
    "\n",
    "def bias_variable(shape):\n",
    "    initial = tf.constant(0.1, shape=shape)\n",
    "    return tf.Variable(initial)\n",
    "\n",
    "def conv2d(x, W):\n",
    "    return tf.nn.conv2d(x, W, strides=[1, 1, 1, 1], padding='SAME')\n",
    "\n",
    "def reshape_batch(x):\n",
    "    modified_x = []\n",
    "    for image in x:\n",
    "        i = np.reshape(image, (28, 28))\n",
    "        modified_x.append(np.reshape(skimage.measure.block_reduce(i, (2, 2), np.max), (196)))\n",
    "    modified_x = np.array(modified_x)\n",
    "    return modified_x"
   ]
  },
  {
   "cell_type": "code",
   "execution_count": 8,
   "metadata": {},
   "outputs": [],
   "source": [
    "F = 5\n",
    "C = 5\n",
    "INPUT = 784*3\n",
    "OUTPUT = 10\n",
    "HFC = 50"
   ]
  },
  {
   "cell_type": "code",
   "execution_count": 9,
   "metadata": {},
   "outputs": [],
   "source": [
    "x_in = tf.placeholder(tf.float32, [None, INPUT], name='input_op')\n",
    "\n",
    "# W_conv = weight_variable([F, F, 1, C])\n",
    "# b_conv = bias_variable([C])\n",
    "\n",
    "#W_fc = weight_variable([INPUT, HFC])\n",
    "#b_fc = bias_variable([HFC])\n",
    "\n",
    "#W_o = weight_variable([HFC, OUTPUT])\n",
    "#b_o = bias_variable([OUTPUT])\n",
    "\n",
    "W_fc = weight_variable([INPUT, HFC])\n",
    "b_fc = bias_variable([HFC])\n",
    "\n",
    "W_fc1 = weight_variable([HFC, HFC])\n",
    "b_fc1 = bias_variable([HFC])\n",
    "\n",
    "W_fc2 = weight_variable([HFC, HFC])\n",
    "b_fc2 = bias_variable([HFC])\n",
    "\n",
    "W_fc3 = weight_variable([HFC, HFC])\n",
    "b_fc3 = bias_variable([HFC])\n",
    "\n",
    "W_fc4 = weight_variable([HFC, HFC])\n",
    "b_fc4 = bias_variable([HFC])\n",
    "\n",
    "W_fc5 = weight_variable([HFC, HFC])\n",
    "b_fc5 = bias_variable([HFC])\n",
    "\n",
    "\n",
    "\n",
    "W_o = weight_variable([HFC, OUTPUT])\n",
    "b_o = bias_variable([OUTPUT])\n",
    "\n",
    "\n",
    "\n",
    "\n",
    "\n",
    "#x_image = tf.reshape(x_in, [-1, int(math.sqrt(INPUT)), int(math.sqrt(INPUT)), 1])\n",
    "\n",
    "# h_conv = tf.reshape(tf.nn.relu(conv2d(x_image, W_conv) + b_conv), [-1, INPUT*C])\n",
    "\n",
    "\n",
    "h_fc = tf.nn.relu(tf.add(tf.matmul(x_in, W_fc), b_fc))\n",
    "h_fc1 = tf.nn.relu(tf.add(tf.matmul(h_fc, W_fc1), b_fc1))\n",
    "h_fc2 = tf.nn.relu(tf.add(tf.matmul(h_fc1, W_fc2), b_fc2))\n",
    "h_fc3 = tf.nn.relu(tf.add(tf.matmul(h_fc2, W_fc3), b_fc3))\n",
    "h_fc4 = tf.nn.relu(tf.add(tf.matmul(h_fc3, W_fc4), b_fc4))\n",
    "h_fc5 = tf.nn.relu(tf.add(tf.matmul(h_fc4, W_fc5), b_fc5))\n",
    "\n",
    "\n",
    "y = tf.nn.relu(tf.add(tf.matmul(h_fc5, W_o), b_o, name=\"output_op\"))\n",
    "\n",
    "y_ = tf.placeholder(tf.int64, [None])\n",
    "cross_entropy = tf.losses.sparse_softmax_cross_entropy(labels=y_, logits=y)\n",
    "train_step = tf.train.AdamOptimizer(0.0001).minimize(cross_entropy)"
   ]
  },
  {
   "cell_type": "code",
   "execution_count": 9,
   "metadata": {},
   "outputs": [
    {
     "name": "stdout",
     "output_type": "stream",
     "text": [
      "WARNING:tensorflow:From /Users/jvrsgsty/anaconda3/envs/tcav/lib/python3.7/site-packages/tensorflow/python/framework/op_def_library.py:263: colocate_with (from tensorflow.python.framework.ops) is deprecated and will be removed in a future version.\n",
      "Instructions for updating:\n",
      "Colocations handled automatically by placer.\n",
      "WARNING:tensorflow:From /Users/jvrsgsty/anaconda3/envs/tcav/lib/python3.7/site-packages/tensorflow/python/ops/losses/losses_impl.py:209: to_float (from tensorflow.python.ops.math_ops) is deprecated and will be removed in a future version.\n",
      "Instructions for updating:\n",
      "Use tf.cast instead.\n"
     ]
    }
   ],
   "source": [
    "import models\n",
    "\n",
    "x_in, y, cross_entropy, y_, _ = models.model_fn()\n",
    "\n",
    "train_step = tf.train.AdamOptimizer(0.0001).minimize(cross_entropy)"
   ]
  },
  {
   "cell_type": "code",
   "execution_count": 10,
   "metadata": {},
   "outputs": [
    {
     "name": "stdout",
     "output_type": "stream",
     "text": [
      "1\n",
      "[[-0.04799512 -0.06700578  0.00093808 ...  0.02488982  0.04236848\n",
      "   0.0450568 ]\n",
      " [ 0.02874968 -0.07157487  0.11387601 ... -0.11461027  0.04421205\n",
      "  -0.09075301]\n",
      " [-0.00100582 -0.06286354 -0.10446829 ... -0.04500226 -0.00518172\n",
      "   0.02798526]\n",
      " ...\n",
      " [-0.12117239 -0.05196868  0.00905737 ... -0.06694955 -0.05210805\n",
      "  -0.1384277 ]\n",
      " [-0.00410855  0.08710424 -0.01860205 ...  0.07406148  0.04336163\n",
      "  -0.02050459]\n",
      " [ 0.01959591 -0.00611401  0.09533624 ...  0.11083181 -0.01831065\n",
      "   0.14849824]]\n",
      "2\n",
      "[[-0.06515712 -0.01897438 -0.02593566 ...  0.01757712  0.05398915\n",
      "   0.07806081]\n",
      " [ 0.04199219 -0.02553903  0.1408583  ... -0.112078    0.09646531\n",
      "  -0.08688268]\n",
      " [-0.00306826  0.02777659 -0.13074471 ... -0.0519681  -0.02463254\n",
      "   0.07356235]\n",
      " ...\n",
      " [-0.15364923 -0.03168941  0.06463216 ... -0.0748527   0.00897801\n",
      "  -0.14006579]\n",
      " [ 0.00546895  0.13779372  0.00284511 ...  0.0616981   0.10226782\n",
      "   0.01947184]\n",
      " [ 0.04295899  0.06757516  0.10042701 ...  0.09601298 -0.01857327\n",
      "   0.21167506]]\n",
      "3\n",
      "[[-0.0668563  -0.03213733 -0.0364079  ...  0.02548731  0.05740272\n",
      "   0.06646547]\n",
      " [ 0.03442376 -0.02549292  0.14647368 ... -0.11336032  0.10124569\n",
      "  -0.0889762 ]\n",
      " [-0.00527268  0.02646715 -0.13462783 ... -0.05398517 -0.02414969\n",
      "   0.07105931]\n",
      " ...\n",
      " [-0.16453968 -0.03074774  0.07286115 ... -0.07408454  0.01165498\n",
      "  -0.14150104]\n",
      " [ 0.0005126   0.13791753  0.00729932 ...  0.0681482   0.10617512\n",
      "   0.02238365]\n",
      " [ 0.03998571  0.06587314  0.09740966 ...  0.10354382 -0.01916393\n",
      "   0.21034415]]\n",
      "4\n",
      "[[-0.06688084 -0.04331255 -0.04356628 ...  0.04283378  0.0596628\n",
      "   0.0580013 ]\n",
      " [ 0.02862692 -0.02547079  0.15041476 ... -0.11538438  0.10332523\n",
      "  -0.08984596]\n",
      " [-0.00534734  0.02459478 -0.13699476 ... -0.03628537 -0.02402489\n",
      "   0.07043204]\n",
      " ...\n",
      " [-0.17438076 -0.02778762  0.0780547  ... -0.07372543  0.01188395\n",
      "  -0.1406769 ]\n",
      " [-0.00811726  0.13645956  0.01213419 ...  0.07892172  0.10765047\n",
      "   0.02279398]\n",
      " [ 0.03737108  0.0630015   0.09433038 ...  0.12028709 -0.01969199\n",
      "   0.20889315]]\n",
      "5\n",
      "[[-0.06704538 -0.05457356 -0.04784461 ...  0.04470548  0.06093672\n",
      "   0.05061951]\n",
      " [ 0.02570319 -0.02489343  0.15389936 ... -0.12259842  0.1040666\n",
      "  -0.09034439]\n",
      " [-0.00308393  0.02281888 -0.13888167 ... -0.02656211 -0.02466806\n",
      "   0.07054872]\n",
      " ...\n",
      " [-0.17868935 -0.02453043  0.08193815 ... -0.08207476  0.01145545\n",
      "  -0.13961281]\n",
      " [-0.01414149  0.13472497  0.01750254 ...  0.08218978  0.10796992\n",
      "   0.02265043]\n",
      " [ 0.0370662   0.0590404   0.09182446 ...  0.12638792 -0.02016219\n",
      "   0.20687081]]\n",
      "6\n",
      "[[-0.06864921 -0.06533548 -0.0509525  ...  0.04154812  0.06272393\n",
      "   0.04413849]\n",
      " [ 0.02346002 -0.02489766  0.15711549 ... -0.12461776  0.10448336\n",
      "  -0.09107571]\n",
      " [-0.00163082  0.02057556 -0.1404717  ... -0.02606937 -0.0255046\n",
      "   0.07081306]\n",
      " ...\n",
      " [-0.18005456 -0.02181514  0.08492962 ... -0.08547024  0.01100392\n",
      "  -0.13892283]\n",
      " [-0.01739521  0.13358712  0.02221841 ...  0.08706556  0.10797154\n",
      "   0.02264085]\n",
      " [ 0.03804722  0.05424625  0.08975729 ...  0.13162726 -0.02058162\n",
      "   0.20440455]]\n",
      "7\n",
      "[[-0.07115402 -0.07507208 -0.0520862  ...  0.03661888  0.06405764\n",
      "   0.03901352]\n",
      " [ 0.02087914 -0.02514443  0.15961112 ... -0.12809297  0.10488944\n",
      "  -0.09186517]\n",
      " [-0.00123229  0.01871102 -0.14152882 ... -0.03138841 -0.0259839\n",
      "   0.0710951 ]\n",
      " ...\n",
      " [-0.18123066 -0.02001747  0.08693049 ... -0.08656521  0.01092954\n",
      "  -0.13871232]\n",
      " [-0.01923009  0.13236463  0.02646845 ...  0.09195126  0.10817721\n",
      "   0.02317073]\n",
      " [ 0.0385933   0.04835111  0.08879086 ...  0.1337872  -0.02074808\n",
      "   0.2015945 ]]\n",
      "8\n",
      "[[-0.07414943 -0.0829442  -0.0515651  ...  0.03213897  0.06652772\n",
      "   0.03487039]\n",
      " [ 0.01825607 -0.02507896  0.16167977 ... -0.13250194  0.10539822\n",
      "  -0.09305964]\n",
      " [-0.00152626  0.01749483 -0.14185037 ... -0.03888308 -0.02670394\n",
      "   0.07149807]\n",
      " ...\n",
      " [-0.18153642 -0.01827523  0.08794046 ... -0.08733051  0.01134569\n",
      "  -0.13874653]\n",
      " [-0.01931735  0.13124295  0.03003351 ...  0.0964045   0.10862971\n",
      "   0.02411656]\n",
      " [ 0.03894208  0.0423464   0.08860741 ...  0.1352941  -0.02070666\n",
      "   0.19857936]]\n",
      "9\n",
      "[[-0.0767215  -0.08899996 -0.05035848 ...  0.02770336  0.06867273\n",
      "   0.03202225]\n",
      " [ 0.01630814 -0.02579555  0.16347565 ... -0.13219202  0.10632162\n",
      "  -0.09459333]\n",
      " [-0.00178312  0.01606915 -0.14151137 ... -0.0464154  -0.02759894\n",
      "   0.0719628 ]\n",
      " ...\n",
      " [-0.18010162 -0.01704633  0.08794983 ... -0.08675985  0.01185317\n",
      "  -0.13865311]\n",
      " [-0.01789406  0.13075954  0.03307763 ...  0.10005593  0.10887055\n",
      "   0.02525165]\n",
      " [ 0.03988487  0.03713573  0.08889014 ...  0.13622434 -0.02169246\n",
      "   0.19608267]]\n",
      "10\n",
      "[[-0.07974905 -0.09358238 -0.04891544 ...  0.02269705  0.07178163\n",
      "   0.03015225]\n",
      " [ 0.01437873 -0.02652246  0.1647621  ... -0.1338168   0.10740673\n",
      "  -0.09605182]\n",
      " [-0.00340591  0.01525895 -0.14043899 ... -0.05451441 -0.02805296\n",
      "   0.07256443]\n",
      " ...\n",
      " [-0.17884171 -0.01583585  0.08789076 ... -0.08577418  0.0127715\n",
      "  -0.13860428]\n",
      " [-0.01648183  0.12986922  0.03616819 ...  0.10363732  0.11061669\n",
      "   0.02620019]\n",
      " [ 0.04009438  0.03203528  0.08948633 ...  0.13615207 -0.02208135\n",
      "   0.19400597]]\n",
      "0.9362\n"
     ]
    }
   ],
   "source": [
    "epochs = 10\n",
    "batch_size = 32\n",
    "\n",
    "N = data_trainX.shape[0]\n",
    "batch_amount = epochs*N//batch_size\n",
    "\n",
    "with tf.Session() as sess:\n",
    "    epoch_in = 1\n",
    "    tf.global_variables_initializer().run()\n",
    "    for i in range(batch_amount):\n",
    "        if (i*batch_size) % N == 0:\n",
    "            print(epoch_in)\n",
    "            #print('loss> {}'.format(sess.run(cross_entropy, feed_dict={x_in: batch_xs, y_: batch_ys})))\n",
    "            graph = tf.get_default_graph()\n",
    "            print(sess.run(graph.get_tensor_by_name('fc1/weight:0')))\n",
    "            epoch_in += 1\n",
    "        #batch_xs, batch_ys = mnist.train.next_batch(50)\n",
    "        batch_xs = data_trainX[range(i*batch_size % N, i*batch_size % N + batch_size)]\n",
    "        batch_ys = data_trainY[range(i*batch_size % N, i*batch_size % N + batch_size)]\n",
    "        # modified_batch_xs = reshape_batch(batch_xs)\n",
    "        sess.run(train_step, feed_dict={x_in: batch_xs, y_: batch_ys})\n",
    "    correct_prediction = tf.equal(tf.argmax(y, 1), y_)\n",
    "    accuracy = tf.reduce_mean(tf.cast(correct_prediction, tf.float32))\n",
    "    # modified_test_x = reshape_batch(test_x)\n",
    "\n",
    "    print(sess.run(accuracy, feed_dict={x_in: data_testX, y_: data_testY}))\n",
    "    #output_graph_def = tf.graph_util.convert_variables_to_constants(sess, tf.get_default_graph().as_graph_def(), ['output_op']) \n",
    "    \n",
    "    saver = tf.train.Saver()\n",
    "    save_path = saver.save(sess, 'models/'+model_name+'.ckpt')\n",
    "    #with tf.gfile.GFile('models/' + model_name+'.pb', \"wb\") as f:\n",
    "    #    f.write(output_graph_def.SerializeToString())\n",
    "    "
   ]
  },
  {
   "cell_type": "code",
   "execution_count": null,
   "metadata": {},
   "outputs": [],
   "source": []
  }
 ],
 "metadata": {
  "kernelspec": {
   "display_name": "TCAV",
   "language": "python",
   "name": "tcav"
  },
  "language_info": {
   "codemirror_mode": {
    "name": "ipython",
    "version": 3
   },
   "file_extension": ".py",
   "mimetype": "text/x-python",
   "name": "python",
   "nbconvert_exporter": "python",
   "pygments_lexer": "ipython3",
   "version": "3.7.3"
  }
 },
 "nbformat": 4,
 "nbformat_minor": 2
}
