{
 "cells": [
  {
   "cell_type": "code",
   "execution_count": 1,
   "metadata": {},
   "outputs": [],
   "source": [
    "import sys\n",
    "import os\n",
    "#from tensorflow.examples.tutorials.mnist import input_data\n",
    "import tensorflow as tf\n",
    "import math\n",
    "import numpy as np\n",
    "#import skimage.measure"
   ]
  },
  {
   "cell_type": "code",
   "execution_count": 7,
   "metadata": {},
   "outputs": [],
   "source": [
    "#mnist = input_data.read_data_sets('./mnist_data')\n",
    "model_name = \"mnist5\"\n",
    "\n",
    "def weight_variable(shape):\n",
    "    initial = tf.truncated_normal(shape, stddev=0.1)\n",
    "    return tf.Variable(initial)\n",
    "\n",
    "def bias_variable(shape):\n",
    "    initial = tf.constant(0.1, shape=shape)\n",
    "    return tf.Variable(initial)\n",
    "\n",
    "def conv2d(x, W):\n",
    "    return tf.nn.conv2d(x, W, strides=[1, 1, 1, 1], padding='SAME')\n",
    "\n",
    "def reshape_batch(x):\n",
    "    modified_x = []\n",
    "    for image in x:\n",
    "        i = np.reshape(image, (28, 28))\n",
    "        modified_x.append(np.reshape(skimage.measure.block_reduce(i, (2, 2), np.max), (196)))\n",
    "    modified_x = np.array(modified_x)\n",
    "    return modified_x"
   ]
  },
  {
   "cell_type": "code",
   "execution_count": 2,
   "metadata": {},
   "outputs": [],
   "source": [
    "data_train = np.load('blue2_train.npz')\n",
    "data_trainX = data_train['X']\n",
    "data_trainY = data_train['y']\n",
    "data_test = np.load('blue2_test.npz')\n",
    "data_testX = data_test['X']\n",
    "data_testY = data_test['y']"
   ]
  },
  {
   "cell_type": "code",
   "execution_count": 3,
   "metadata": {},
   "outputs": [
    {
     "data": {
      "text/plain": [
       "(10000, 2352)"
      ]
     },
     "execution_count": 3,
     "metadata": {},
     "output_type": "execute_result"
    }
   ],
   "source": [
    "data_test['X'].shape"
   ]
  },
  {
   "cell_type": "code",
   "execution_count": 4,
   "metadata": {},
   "outputs": [
    {
     "data": {
      "text/plain": [
       "(10000,)"
      ]
     },
     "execution_count": 4,
     "metadata": {},
     "output_type": "execute_result"
    }
   ],
   "source": [
    "data_test['y'].shape"
   ]
  },
  {
   "cell_type": "code",
   "execution_count": 5,
   "metadata": {},
   "outputs": [
    {
     "data": {
      "text/plain": [
       "(60000,)"
      ]
     },
     "execution_count": 5,
     "metadata": {},
     "output_type": "execute_result"
    }
   ],
   "source": [
    "data_train['y'].shape"
   ]
  },
  {
   "cell_type": "code",
   "execution_count": 8,
   "metadata": {},
   "outputs": [],
   "source": [
    "#mnist = input_data.read_data_sets('./mnist_data')\n",
    "file_name = \"mnist5.pb\"\n",
    "\n",
    "def weight_variable(shape):\n",
    "    initial = tf.truncated_normal(shape, stddev=0.1)\n",
    "    return tf.Variable(initial)\n",
    "\n",
    "def bias_variable(shape):\n",
    "    initial = tf.constant(0.1, shape=shape)\n",
    "    return tf.Variable(initial)\n",
    "\n",
    "def conv2d(x, W):\n",
    "    return tf.nn.conv2d(x, W, strides=[1, 1, 1, 1], padding='SAME')\n",
    "\n",
    "def reshape_batch(x):\n",
    "    modified_x = []\n",
    "    for image in x:\n",
    "        i = np.reshape(image, (28, 28))\n",
    "        modified_x.append(np.reshape(skimage.measure.block_reduce(i, (2, 2), np.max), (196)))\n",
    "    modified_x = np.array(modified_x)\n",
    "    return modified_x"
   ]
  },
  {
   "cell_type": "code",
   "execution_count": 8,
   "metadata": {},
   "outputs": [],
   "source": [
    "F = 5\n",
    "C = 5\n",
    "INPUT = 784*3\n",
    "OUTPUT = 10\n",
    "HFC = 50"
   ]
  },
  {
   "cell_type": "code",
   "execution_count": 9,
   "metadata": {},
   "outputs": [],
   "source": [
    "x_in = tf.placeholder(tf.float32, [None, INPUT], name='input_op')\n",
    "\n",
    "# W_conv = weight_variable([F, F, 1, C])\n",
    "# b_conv = bias_variable([C])\n",
    "\n",
    "#W_fc = weight_variable([INPUT, HFC])\n",
    "#b_fc = bias_variable([HFC])\n",
    "\n",
    "#W_o = weight_variable([HFC, OUTPUT])\n",
    "#b_o = bias_variable([OUTPUT])\n",
    "\n",
    "W_fc = weight_variable([INPUT, HFC])\n",
    "b_fc = bias_variable([HFC])\n",
    "\n",
    "W_fc1 = weight_variable([HFC, HFC])\n",
    "b_fc1 = bias_variable([HFC])\n",
    "\n",
    "W_fc2 = weight_variable([HFC, HFC])\n",
    "b_fc2 = bias_variable([HFC])\n",
    "\n",
    "W_fc3 = weight_variable([HFC, HFC])\n",
    "b_fc3 = bias_variable([HFC])\n",
    "\n",
    "W_fc4 = weight_variable([HFC, HFC])\n",
    "b_fc4 = bias_variable([HFC])\n",
    "\n",
    "W_fc5 = weight_variable([HFC, HFC])\n",
    "b_fc5 = bias_variable([HFC])\n",
    "\n",
    "\n",
    "\n",
    "W_o = weight_variable([HFC, OUTPUT])\n",
    "b_o = bias_variable([OUTPUT])\n",
    "\n",
    "\n",
    "\n",
    "\n",
    "\n",
    "#x_image = tf.reshape(x_in, [-1, int(math.sqrt(INPUT)), int(math.sqrt(INPUT)), 1])\n",
    "\n",
    "# h_conv = tf.reshape(tf.nn.relu(conv2d(x_image, W_conv) + b_conv), [-1, INPUT*C])\n",
    "\n",
    "\n",
    "h_fc = tf.nn.relu(tf.add(tf.matmul(x_in, W_fc), b_fc))\n",
    "h_fc1 = tf.nn.relu(tf.add(tf.matmul(h_fc, W_fc1), b_fc1))\n",
    "h_fc2 = tf.nn.relu(tf.add(tf.matmul(h_fc1, W_fc2), b_fc2))\n",
    "h_fc3 = tf.nn.relu(tf.add(tf.matmul(h_fc2, W_fc3), b_fc3))\n",
    "h_fc4 = tf.nn.relu(tf.add(tf.matmul(h_fc3, W_fc4), b_fc4))\n",
    "h_fc5 = tf.nn.relu(tf.add(tf.matmul(h_fc4, W_fc5), b_fc5))\n",
    "\n",
    "\n",
    "y = tf.nn.relu(tf.add(tf.matmul(h_fc5, W_o), b_o, name=\"output_op\"))\n",
    "\n",
    "y_ = tf.placeholder(tf.int64, [None])\n",
    "cross_entropy = tf.losses.sparse_softmax_cross_entropy(labels=y_, logits=y)\n",
    "train_step = tf.train.AdamOptimizer(0.0001).minimize(cross_entropy)"
   ]
  },
  {
   "cell_type": "code",
   "execution_count": 9,
   "metadata": {},
   "outputs": [
    {
     "name": "stdout",
     "output_type": "stream",
     "text": [
      "WARNING:tensorflow:From /Users/jvrsgsty/anaconda3/envs/tcav/lib/python3.7/site-packages/tensorflow/python/framework/op_def_library.py:263: colocate_with (from tensorflow.python.framework.ops) is deprecated and will be removed in a future version.\n",
      "Instructions for updating:\n",
      "Colocations handled automatically by placer.\n",
      "WARNING:tensorflow:From /Users/jvrsgsty/anaconda3/envs/tcav/lib/python3.7/site-packages/tensorflow/python/ops/losses/losses_impl.py:209: to_float (from tensorflow.python.ops.math_ops) is deprecated and will be removed in a future version.\n",
      "Instructions for updating:\n",
      "Use tf.cast instead.\n"
     ]
    }
   ],
   "source": [
    "import models\n",
    "\n",
    "x_in, y, cross_entropy, y_, _ = models.model_fn()\n",
    "\n",
    "train_step = tf.train.AdamOptimizer(0.0001).minimize(cross_entropy)"
   ]
  },
  {
   "cell_type": "code",
   "execution_count": null,
   "metadata": {},
   "outputs": [],
   "source": [
    "grap"
   ]
  },
  {
   "cell_type": "code",
   "execution_count": null,
   "metadata": {},
   "outputs": [],
   "source": [
    "y"
   ]
  },
  {
   "cell_type": "code",
   "execution_count": 13,
   "metadata": {},
   "outputs": [
    {
     "name": "stdout",
     "output_type": "stream",
     "text": [
      "1\n",
      "[[ 0.07976548  0.08576061 -0.04182591 ...  0.0687701   0.09392653\n",
      "   0.05560074]\n",
      " [ 0.11895631 -0.12175588 -0.02411618 ...  0.06697705 -0.02478215\n",
      "   0.13409701]\n",
      " [-0.00113981 -0.04249645  0.04161897 ...  0.03197009 -0.0272464\n",
      "  -0.0388835 ]\n",
      " ...\n",
      " [ 0.02716511 -0.02383189 -0.01012198 ... -0.1426181   0.05822048\n",
      "   0.02257542]\n",
      " [ 0.04123671 -0.00253167 -0.0087979  ...  0.03269612  0.02489429\n",
      "  -0.09068982]\n",
      " [-0.10173345 -0.01974707  0.05368082 ... -0.11050908 -0.03148548\n",
      "  -0.01636765]]\n",
      "2\n",
      "[[ 0.08531557  0.08205084 -0.00380163 ...  0.0855597   0.16120473\n",
      "   0.07477301]\n",
      " [ 0.12426624 -0.12767296  0.03400902 ...  0.08757254  0.03724882\n",
      "   0.1942033 ]\n",
      " [-0.03510633 -0.04209724  0.13101338 ...  0.07856512  0.02765628\n",
      "  -0.00822793]\n",
      " ...\n",
      " [ 0.07464566 -0.03242093  0.01789167 ... -0.16426116  0.09982374\n",
      "   0.02083759]\n",
      " [ 0.08937152 -0.00662755 -0.02639652 ...  0.02504405  0.00106798\n",
      "  -0.07151423]\n",
      " [-0.11213166 -0.0264909   0.12749021 ... -0.07236531  0.02437227\n",
      "   0.05347924]]\n",
      "3\n",
      "[[ 0.08373129  0.08082703 -0.00664708 ...  0.08585753  0.16178718\n",
      "   0.06902757]\n",
      " [ 0.12895535 -0.13076057  0.03532473 ...  0.08596136  0.03742649\n",
      "   0.1945481 ]\n",
      " [-0.04392152 -0.04664983  0.1718324  ...  0.10164738  0.07721933\n",
      "  -0.0114541 ]\n",
      " ...\n",
      " [ 0.07255282 -0.03355925  0.01776546 ... -0.16265897  0.10033063\n",
      "   0.02038051]\n",
      " [ 0.09246958 -0.01734712 -0.03481692 ...  0.02115419 -0.01044335\n",
      "  -0.07290599]\n",
      " [-0.1292315  -0.02940245  0.14204516 ... -0.05763463  0.02758639\n",
      "   0.06152783]]\n",
      "4\n",
      "[[ 0.08321109  0.08244548 -0.00828186 ...  0.08535492  0.1604969\n",
      "   0.06662791]\n",
      " [ 0.13191666 -0.13327904  0.03474749 ...  0.08497539  0.03660543\n",
      "   0.19317448]\n",
      " [-0.0485113  -0.04943187  0.20448583 ...  0.12227421  0.11742482\n",
      "  -0.0170102 ]\n",
      " ...\n",
      " [ 0.07078273 -0.0319647   0.01894573 ... -0.16061574  0.09904814\n",
      "   0.02115555]\n",
      " [ 0.0938152  -0.02043908 -0.03942952 ...  0.01802892 -0.01599943\n",
      "  -0.07524448]\n",
      " [-0.14662027 -0.03092127  0.14954779 ... -0.04535228  0.03280461\n",
      "   0.06247298]]\n",
      "5\n",
      "[[ 0.08320646  0.08429839 -0.00971179 ...  0.08443232  0.15855427\n",
      "   0.06585215]\n",
      " [ 0.13362804 -0.13308172  0.03454961 ...  0.08485612  0.03689298\n",
      "   0.19154777]\n",
      " [-0.05439027 -0.04720422  0.231347   ...  0.14019568  0.15181082\n",
      "  -0.02170753]\n",
      " ...\n",
      " [ 0.06928835 -0.0316351   0.02073697 ... -0.15840219  0.09823058\n",
      "   0.02283082]\n",
      " [ 0.09416873 -0.02561574 -0.04089925 ...  0.01690588 -0.01717484\n",
      "  -0.07785595]\n",
      " [-0.16154814 -0.0327637   0.15401888 ... -0.03598161  0.03809849\n",
      "   0.06117434]]\n",
      "6\n",
      "[[ 0.08311222  0.08499565 -0.01170737 ...  0.08266186  0.15639219\n",
      "   0.06494106]\n",
      " [ 0.13448118 -0.13759585  0.03406602 ...  0.0844504   0.03747155\n",
      "   0.18962848]\n",
      " [-0.06149463 -0.04345764  0.25127226 ...  0.15290754  0.17754635\n",
      "  -0.02665522]\n",
      " ...\n",
      " [ 0.06792253 -0.02947065  0.0219604  ... -0.15693335  0.09769797\n",
      "   0.02432885]\n",
      " [ 0.09307383 -0.0256373  -0.04110006 ...  0.01681511 -0.01540686\n",
      "  -0.08082487]\n",
      " [-0.17300925 -0.03560156  0.15678686 ... -0.02993077  0.04246288\n",
      "   0.05803622]]\n",
      "7\n",
      "[[ 0.08365696  0.08859538 -0.01398025 ...  0.08040568  0.15376233\n",
      "   0.0637253 ]\n",
      " [ 0.13501908 -0.13780586  0.03363828 ...  0.08381832  0.03767868\n",
      "   0.18767154]\n",
      " [-0.06925151 -0.04259054  0.2654058  ...  0.16136375  0.19577448\n",
      "  -0.03159003]\n",
      " ...\n",
      " [ 0.06674504 -0.02560179  0.02323671 ... -0.15533482  0.09721041\n",
      "   0.0261664 ]\n",
      " [ 0.09110881 -0.02295265 -0.04061049 ...  0.01762011 -0.01250499\n",
      "  -0.08387788]\n",
      " [-0.18172012 -0.03720285  0.1596771  ... -0.02448919  0.04674057\n",
      "   0.05495189]]\n",
      "8\n",
      "[[ 0.08440594  0.08958658 -0.01595421 ...  0.07827347  0.15110679\n",
      "   0.06257931]\n",
      " [ 0.13527001 -0.13949074  0.0328498  ...  0.08297986  0.03778173\n",
      "   0.18582408]\n",
      " [-0.07749895 -0.04108208  0.27523112 ...  0.16733423  0.2080891\n",
      "  -0.03633884]\n",
      " ...\n",
      " [ 0.06562337 -0.02603147  0.02431837 ... -0.15357922  0.09661125\n",
      "   0.02795201]\n",
      " [ 0.08874775 -0.02350043 -0.04024876 ...  0.01842064 -0.00930081\n",
      "  -0.0866544 ]\n",
      " [-0.18894632 -0.03898254  0.16238463 ... -0.01929192  0.05142252\n",
      "   0.05280536]]\n",
      "9\n",
      "[[ 0.08488437  0.09151307 -0.01767259 ...  0.07642532  0.14850596\n",
      "   0.06130112]\n",
      " [ 0.13512681 -0.14038247  0.03193507 ...  0.08218914  0.03789698\n",
      "   0.18389598]\n",
      " [-0.08498895 -0.0388743   0.28193128 ...  0.17130588  0.21635374\n",
      "  -0.04084163]\n",
      " ...\n",
      " [ 0.06467929 -0.02701225  0.02537787 ... -0.15154144  0.09623817\n",
      "   0.02972801]\n",
      " [ 0.0862048  -0.01871085 -0.03974973 ...  0.01949411 -0.00596898\n",
      "  -0.08942518]\n",
      " [-0.19513038 -0.04198833  0.16535617 ... -0.01478186  0.05579232\n",
      "   0.05122929]]\n",
      "10\n",
      "[[ 0.08508833  0.09514494 -0.01874463 ...  0.07444526  0.14594874\n",
      "   0.0599026 ]\n",
      " [ 0.13452177 -0.13914497  0.03085247 ...  0.08118188  0.03797816\n",
      "   0.18196495]\n",
      " [-0.09167655 -0.03821752  0.28578436 ...  0.17350286  0.22174007\n",
      "  -0.04495654]\n",
      " ...\n",
      " [ 0.06343121 -0.02735836  0.02662159 ... -0.1492586   0.09572898\n",
      "   0.03174542]\n",
      " [ 0.08380986 -0.01227094 -0.03937528 ...  0.02018949 -0.00312794\n",
      "  -0.09178543]\n",
      " [-0.20090154 -0.03874612  0.16783333 ... -0.01067832  0.05958752\n",
      "   0.05055959]]\n",
      "0.9396\n"
     ]
    }
   ],
   "source": [
    "epochs = 10\n",
    "batch_size = 32\n",
    "\n",
    "N = data_trainX.shape[0]\n",
    "batch_amount = epochs*N//batch_size\n",
    "\n",
    "with tf.Session() as sess:\n",
    "    epoch_in = 1\n",
    "    tf.global_variables_initializer().run()\n",
    "    for i in range(batch_amount):\n",
    "        if (i*batch_size) % N == 0:\n",
    "            print(epoch_in)\n",
    "            #print('loss> {}'.format(sess.run(cross_entropy, feed_dict={x_in: batch_xs, y_: batch_ys})))\n",
    "            graph = tf.get_default_graph()\n",
    "            print(sess.run(graph.get_tensor_by_name('fc1/weight:0')))\n",
    "            epoch_in += 1\n",
    "        #batch_xs, batch_ys = mnist.train.next_batch(50)\n",
    "        batch_xs = data_trainX[range(i*batch_size % N, i*batch_size % N + batch_size)]\n",
    "        batch_ys = data_trainY[range(i*batch_size % N, i*batch_size % N + batch_size)]\n",
    "        # modified_batch_xs = reshape_batch(batch_xs)\n",
    "        sess.run(train_step, feed_dict={x_in: batch_xs, y_: batch_ys})\n",
    "    correct_prediction = tf.equal(tf.argmax(y, 1), y_)\n",
    "    accuracy = tf.reduce_mean(tf.cast(correct_prediction, tf.float32))\n",
    "    # modified_test_x = reshape_batch(test_x)\n",
    "\n",
    "    print(sess.run(accuracy, feed_dict={x_in: data_testX, y_: data_testY}))\n",
    "    #output_graph_def = tf.graph_util.convert_variables_to_constants(sess, tf.get_default_graph().as_graph_def(), ['output_op']) \n",
    "    \n",
    "    saver = tf.train.Saver()\n",
    "    save_path = saver.save(sess, 'models/'+model_name+'.ckpt')\n",
    "    #with tf.gfile.GFile('models/' + model_name+'.pb', \"wb\") as f:\n",
    "    #    f.write(output_graph_def.SerializeToString())\n",
    "    "
   ]
  },
  {
   "cell_type": "code",
   "execution_count": null,
   "metadata": {},
   "outputs": [],
   "source": [
    "! mkdir models"
   ]
  },
  {
   "cell_type": "code",
   "execution_count": null,
   "metadata": {},
   "outputs": [],
   "source": [
    "! ls"
   ]
  },
  {
   "cell_type": "code",
   "execution_count": null,
   "metadata": {},
   "outputs": [],
   "source": []
  }
 ],
 "metadata": {
  "kernelspec": {
   "display_name": "TCAV",
   "language": "python",
   "name": "tcav"
  },
  "language_info": {
   "codemirror_mode": {
    "name": "ipython",
    "version": 3
   },
   "file_extension": ".py",
   "mimetype": "text/x-python",
   "name": "python",
   "nbconvert_exporter": "python",
   "pygments_lexer": "ipython3",
   "version": "3.7.3"
  }
 },
 "nbformat": 4,
 "nbformat_minor": 2
}
