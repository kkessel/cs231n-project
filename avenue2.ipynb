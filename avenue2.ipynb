{
 "cells": [
  {
   "cell_type": "code",
   "execution_count": 1,
   "metadata": {
    "collapsed": true
   },
   "outputs": [],
   "source": [
    "using NeuralVerification, LazySets, Test, LinearAlgebra, GLPKMathProgInterface\n",
    "import NeuralVerification: ReLU, Id\n",
    "using PyPlot"
   ]
  },
  {
   "cell_type": "code",
   "execution_count": 14,
   "metadata": {},
   "outputs": [
    {
     "data": {
      "text/plain": [
       "Network(NeuralVerification.Layer[Layer{ReLU,Float64}([-0.0368166 -0.0706536 … -0.0912468 -0.0490859; 0.189174 0.00236389 … 0.00713663 0.182075; … ; 0.0795645 0.0408027 … -0.034356 0.124015; -0.0722785 0.0640254 … -0.102303 0.0795488], [0.138137, 0.080275, 0.121374, 0.158729, 0.10748, 0.193207, 0.162001, 0.096951, 0.151076, 0.107592  …  0.10856, 0.16757, 0.151847, 0.161865, 0.125018, 0.162935, 0.091105, 0.148989, 0.108876, 0.157476], ReLU()), Layer{ReLU,Float64}([-0.0758726 -0.204673 … 0.125558 0.0827474; -0.0933417 0.366084 … 0.137936 0.0764537; … ; 0.0242026 0.0288707 … -0.116681 -0.172489; 0.0648067 0.280223 … 0.157698 0.0285247], [0.114185, 0.175259, 0.170901, 0.146288, 0.115158, 0.0981914, 0.132048, 0.125148, 0.154286, 0.0661286  …  0.13286, 0.132969, 0.134941, 0.0976865, 0.120363, 0.11931, 0.138777, 0.107775, 0.104577, 0.167133], ReLU()), Layer{ReLU,Float64}([0.0118436 0.109166 … -0.0584732 0.124637; -0.288968 0.0503578 … 0.157053 -0.0628537; … ; 0.0690715 0.0761014 … 0.124035 0.0225931; 0.283058 0.132908 … -0.0106089 -0.201381], [0.213537, 0.146038, 0.0938319, 0.209642, 0.144822, 0.12584, 0.170148, 0.110784, 0.0798101, 0.125445  …  0.176553, 0.0884612, 0.068202, 0.0833043, 0.172497, 0.129805, 0.100573, 0.126588, 0.0997488, 0.154524], ReLU()), Layer{ReLU,Float64}([-0.153592 -0.13318 … 0.126447 -0.0983687; 0.266167 0.0847877 … -0.00414955 0.0454371; … ; 0.114535 -0.0136231 … -0.03611 -0.0465959; 0.0349945 0.25257 … 0.231993 0.0895028], [0.109759, 0.0760643, 0.11087, 0.145221, 0.0910999, 0.155616, 0.144195, 0.103099, 0.202936, 0.0978623  …  0.102567, 0.145268, 0.114847, 0.0172237, 0.132263, 0.113167, 0.148104, 0.154852, 0.089479, 0.112298], ReLU()), Layer{ReLU,Float64}([0.134276 0.0668634 … 0.0524792 -0.103872; 0.187095 0.194299 … -0.102376 0.106832; … ; 0.246907 0.05141 … -0.0021225 0.134766; 0.0734082 0.229832 … -0.182616 -0.028861], [0.149071, 0.0777696, 0.0945762, 0.108931, 0.150507, 0.106294, 0.150006, 0.0947937, 0.107159, 0.106229  …  0.0909604, 0.0883454, 0.034521, 0.0954571, 0.113966, 0.0970826, 0.134892, 0.0901117, 0.0373624, 0.147861], ReLU())])"
      ]
     },
     "execution_count": 14,
     "metadata": {},
     "output_type": "execute_result"
    }
   ],
   "source": [
    "blue21005x50_file = \"$(@__DIR__)models/network_blue2-100_5x50_fc4.nnet\"\n",
    "blue_network = read_nnet(blue21005x50_file, last_layer_activation = ReLU())"
   ]
  },
  {
   "cell_type": "code",
   "execution_count": 15,
   "metadata": {},
   "outputs": [
    {
     "data": {
      "text/plain": [
       "5-element Array{Tuple{Int64},1}:\n",
       " (50,)\n",
       " (50,)\n",
       " (50,)\n",
       " (50,)\n",
       " (50,)"
      ]
     },
     "execution_count": 15,
     "metadata": {},
     "output_type": "execute_result"
    }
   ],
   "source": [
    "[size(layer.bias) for layer in blue_network.layers]"
   ]
  },
  {
   "cell_type": "code",
   "execution_count": 16,
   "metadata": {
    "collapsed": true
   },
   "outputs": [],
   "source": [
    "cav = [-0.0149315 , -0.04210887, -0.21179856, -0.09526453, -0.06350145,\n",
    "         -0.13195272,  0.04009417, -0.07852261, -0.0618356 , -0.33904928,\n",
    "         -0.01614001, -0.05799621,  0.08888276, -0.24976716, -0.26743488,\n",
    "          0.00440992,  0.09774179, -0.25361664,  0.24287269, -0.00058376,\n",
    "         -0.02460891, -0.        , -0.2622163 , -0.25330892, -0.11236939,\n",
    "         -0.20838313, -0.06140403, -0.15776368, -0.09362213, -0.21058005,\n",
    "         -0.18359654, -0.14748262, -0.0937468 ,  0.02737032,  0.06902506,\n",
    "         -0.16348283, -0.17014746, -0.14261157, -0.        , -0.        ,\n",
    "         -0.25158604,  0.22968987, -0.11010671, -0.17172886, -0.23623435,\n",
    "         -0.10722136, -0.11911813, -0.        , -0.14326727, -0.19573819];"
   ]
  },
  {
   "cell_type": "code",
   "execution_count": 17,
   "metadata": {
    "collapsed": true
   },
   "outputs": [],
   "source": [
    "redChannelIndices = [x for x in 1:28*28*3 if x % 3 == 1]\n",
    "greenChannelIndices = [x for x in 1:28*28*3 if x % 3 == 2]\n",
    "blueChannelIndices = [x for x in 1:28*28*3 if x % 3 == 0];"
   ]
  },
  {
   "cell_type": "code",
   "execution_count": 18,
   "metadata": {
    "collapsed": true
   },
   "outputs": [],
   "source": [
    "lower = zeros(2352)\n",
    "upper = zeros(2352)\n",
    "\n",
    "lower[redChannelIndices] .= 0.0\n",
    "upper[redChannelIndices] .= 25.0\n",
    "\n",
    "\n",
    "lower[greenChannelIndices] .= 0.0\n",
    "upper[greenChannelIndices] .= 25.0\n",
    "\n",
    "lower[blueChannelIndices] .= 150.0\n",
    "upper[blueChannelIndices] .= 200.0;"
   ]
  },
  {
   "cell_type": "markdown",
   "metadata": {},
   "source": [
    "# Input Set"
   ]
  },
  {
   "cell_type": "code",
   "execution_count": 19,
   "metadata": {},
   "outputs": [
    {
     "data": {
      "text/plain": [
       "Hyperrectangle{Float64}([12.5, 12.5, 175.0, 12.5, 12.5, 175.0, 12.5, 12.5, 175.0, 12.5  …  175.0, 12.5, 12.5, 175.0, 12.5, 12.5, 175.0, 12.5, 12.5, 175.0], [12.5, 12.5, 25.0, 12.5, 12.5, 25.0, 12.5, 12.5, 25.0, 12.5  …  25.0, 12.5, 12.5, 25.0, 12.5, 12.5, 25.0, 12.5, 12.5, 25.0])"
      ]
     },
     "execution_count": 19,
     "metadata": {},
     "output_type": "execute_result"
    }
   ],
   "source": [
    "X = Hyperrectangle(low=lower, high=upper)"
   ]
  },
  {
   "cell_type": "markdown",
   "metadata": {},
   "source": [
    "# Output Set"
   ]
  },
  {
   "cell_type": "code",
   "execution_count": 20,
   "metadata": {},
   "outputs": [
    {
     "data": {
      "text/plain": [
       "PolytopeComplement of:\n",
       "  HPolytope{Float64}(HalfSpace{Float64}[HalfSpace{Float64}([-0.0149315, -0.0421089, -0.211799, -0.0952645, -0.0635015, -0.131953, 0.0400942, -0.0785226, -0.0618356, -0.339049  …  -0.251586, 0.22969, -0.110107, -0.171729, -0.236234, -0.107221, -0.119118, -0.0, -0.143267, -0.195738], 0.0)])\n"
      ]
     },
     "execution_count": 20,
     "metadata": {},
     "output_type": "execute_result"
    }
   ],
   "source": [
    "b = [0.0]\n",
    " \n",
    "Yc = HPolytope(cav', b)\n",
    "Y = complement(Yc)"
   ]
  },
  {
   "cell_type": "markdown",
   "metadata": {},
   "source": [
    "# Problem Definition"
   ]
  },
  {
   "cell_type": "code",
   "execution_count": 21,
   "metadata": {},
   "outputs": [],
   "source": [
    "problem_av2 = Problem(blue_network, X, Y);"
   ]
  },
  {
   "cell_type": "code",
   "execution_count": null,
   "metadata": {},
   "outputs": [],
   "source": [
    "#solver = NSVerify(m=100)\n",
    "#println(\"NSVerify\")\n",
    "#solver = ReluVal()\n",
    "solver = MIPVerify()\n",
    "timed_result = @timed solve(solver, problem_av2)\n",
    "print(\" - Time: \" * string(timed_result[2]) * \" s\")\n",
    "print(\" - Output: \")\n",
    "print(timed_result[1])\n",
    "println(\"\")\n",
    "\n",
    "counter_example = timed_result[1].counter_example;"
   ]
  },
  {
   "cell_type": "markdown",
   "metadata": {},
   "source": [
    "# Sanity Check"
   ]
  },
  {
   "cell_type": "code",
   "execution_count": 23,
   "metadata": {},
   "outputs": [
    {
     "name": "stdout",
     "output_type": "stream",
     "text": [
      " - Time: 16.878630195 s - Output: CounterExampleResult(:holds, Float64[])\n"
     ]
    }
   ],
   "source": [
    "Yc = HPolytope(-cav', b)\n",
    "Y = complement(Yc)\n",
    "solver = MIPVerify()\n",
    "problem_av2_sanity = Problem(blue_network, X, Y);\n",
    "timed_result = @timed solve(solver, problem_av2_sanity)\n",
    "print(\" - Time: \" * string(timed_result[2]) * \" s\")\n",
    "print(\" - Output: \")\n",
    "print(timed_result[1])\n",
    "println(\"\")\n",
    "\n",
    "counter_example = timed_result[1].counter_example;"
   ]
  },
  {
   "cell_type": "markdown",
   "metadata": {},
   "source": [
    "# other approach"
   ]
  },
  {
   "cell_type": "code",
   "execution_count": 133,
   "metadata": {
    "collapsed": true
   },
   "outputs": [],
   "source": [
    "out_poly = HPolytope(-tcav', b)\n",
    "problem_av2_poly = Problem(blue_network, X, out_poly);"
   ]
  },
  {
   "cell_type": "code",
   "execution_count": 136,
   "metadata": {},
   "outputs": [
    {
     "name": "stdout",
     "output_type": "stream",
     "text": [
      " - Time: 206.786838196 s - Output: BasicResult(:unknown)\n"
     ]
    },
    {
     "ename": "ErrorException",
     "evalue": "type BasicResult has no field counter_example",
     "output_type": "error",
     "traceback": [
      "type BasicResult has no field counter_example",
      "",
      "Stacktrace:",
      " [1] getproperty(::Any, ::Symbol) at ./sysimg.jl:18",
      " [2] top-level scope at In[136]:10"
     ]
    }
   ],
   "source": [
    "#solver = NSVerify(m=100)\n",
    "#println(\"NSVerify\")\n",
    "\n",
    "solver = ReluVal(max_iter=1000)\n",
    "timed_result = @timed solve(solver, problem_av2_poly)\n",
    "print(\" - Time: \" * string(timed_result[2]) * \" s\")\n",
    "print(\" - Output: \")\n",
    "print(timed_result[1])\n",
    "println(\"\")\n",
    "\n",
    "counter_example = timed_result[1].counter_example;"
   ]
  },
  {
   "cell_type": "code",
   "execution_count": 129,
   "metadata": {},
   "outputs": [
    {
     "data": {
      "text/plain": [
       "28×28 Array{Float64,2}:\n",
       " 0.0490196  0.0490196  0.0490196  …  0.0490196  0.0490196  0.0490196\n",
       " 0.0490196  0.0490196  0.0490196     0.0490196  0.0490196  0.0490196\n",
       " 0.0490196  0.0490196  0.0490196     0.0490196  0.0490196  0.0490196\n",
       " 0.0490196  0.0490196  0.0490196     0.0490196  0.0490196  0.0490196\n",
       " 0.0490196  0.0490196  0.0490196     0.0490196  0.0490196  0.0490196\n",
       " 0.0490196  0.0490196  0.0490196  …  0.0490196  0.0490196  0.0490196\n",
       " 0.0490196  0.0490196  0.0490196     0.0490196  0.0490196  0.0490196\n",
       " 0.0490196  0.0490196  0.0490196     0.0490196  0.0490196  0.0490196\n",
       " 0.0490196  0.0490196  0.0490196     0.0490196  0.0490196  0.0490196\n",
       " 0.0490196  0.0490196  0.0490196     0.0490196  0.0490196  0.0490196\n",
       " 0.0490196  0.0490196  0.0490196  …  0.0490196  0.0490196  0.0490196\n",
       " 0.0490196  0.0490196  0.0490196     0.0490196  0.0490196  0.0490196\n",
       " 0.0490196  0.0490196  0.0490196     0.0490196  0.0490196  0.0490196\n",
       " ⋮                                ⋱  ⋮                              \n",
       " 0.0490196  0.0490196  0.0490196     0.0490196  0.0490196  0.0490196\n",
       " 0.0490196  0.0490196  0.0490196     0.0490196  0.0490196  0.0490196\n",
       " 0.0490196  0.0490196  0.0490196     0.0490196  0.0490196  0.0490196\n",
       " 0.0490196  0.0490196  0.0490196     0.0490196  0.0490196  0.0490196\n",
       " 0.0490196  0.0490196  0.0490196  …  0.0490196  0.0490196  0.0490196\n",
       " 0.0490196  0.0490196  0.0490196     0.0490196  0.0490196  0.0490196\n",
       " 0.0490196  0.0490196  0.0490196     0.0490196  0.0490196  0.0490196\n",
       " 0.0490196  0.0490196  0.0490196     0.0490196  0.0490196  0.0490196\n",
       " 0.0490196  0.0490196  0.0490196     0.0490196  0.0490196  0.0490196\n",
       " 0.0490196  0.0490196  0.0490196  …  0.0490196  0.0490196  0.0490196\n",
       " 0.0490196  0.0490196  0.0490196     0.0490196  0.0490196  0.0490196\n",
       " 0.0490196  0.0490196  0.0490196     0.0490196  0.0490196  0.0490196"
      ]
     },
     "execution_count": 129,
     "metadata": {},
     "output_type": "execute_result"
    }
   ],
   "source": [
    "red_chan = counter_example[redChannelIndices]\n",
    "blue_chan = counter_example[redChannelIndices]\n",
    "green_chan = counter_example[redChannelIndices]\n",
    "\n",
    "view_counter = zeros(28,28,3)\n",
    "\n",
    "view_counter[:,:,1] = reshape(red_chan, 28, 28)./255.0\n",
    "view_counter[:,:,2] = reshape(blue_chan, 28, 28)./255.0\n",
    "view_counter[:,:,3] = reshape(green_chan, 28, 28)./255.0"
   ]
  },
  {
   "cell_type": "code",
   "execution_count": 130,
   "metadata": {},
   "outputs": [
    {
     "data": {
      "image/png": "[encoded data removed]",
      "text/plain": [
       "Figure(PyObject <Figure size 640x480 with 1 Axes>)"
      ]
     },
     "metadata": {},
     "output_type": "display_data"
    },
    {
     "data": {
      "text/plain": [
       "PyObject <matplotlib.image.AxesImage object at 0x14ddba470>"
      ]
     },
     "execution_count": 130,
     "metadata": {},
     "output_type": "execute_result"
    }
   ],
   "source": [
    "imshow(view_counter)"
   ]
  },
  {
   "cell_type": "code",
   "execution_count": null,
   "metadata": {
    "collapsed": true
   },
   "outputs": [],
   "source": []
  }
 ],
 "metadata": {
  "kernelspec": {
   "display_name": "Julia 1.0.2",
   "language": "julia",
   "name": "julia-1.0"
  },
  "language_info": {
   "file_extension": ".jl",
   "mimetype": "application/julia",
   "name": "julia",
   "version": "1.0.2"
  }
 },
 "nbformat": 4,
 "nbformat_minor": 2
}
