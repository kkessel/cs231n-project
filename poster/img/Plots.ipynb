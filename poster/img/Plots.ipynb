{
 "cells": [
  {
   "cell_type": "code",
   "execution_count": 1,
   "metadata": {
    "collapsed": true
   },
   "outputs": [],
   "source": [
    "import numpy as np\n",
    "from matplotlib import pyplot as plt\n",
    "import seaborn as sns\n",
    "sns.set()"
   ]
  },
  {
   "cell_type": "code",
   "execution_count": 2,
   "metadata": {
    "collapsed": true
   },
   "outputs": [],
   "source": [
    "import pandas as pd"
   ]
  },
  {
   "cell_type": "code",
   "execution_count": 3,
   "metadata": {
    "collapsed": true
   },
   "outputs": [],
   "source": [
    "ss = -0.5 - 1.86\n",
    "cc = 70.69+71.09\n",
    "sc =80.8 - 22.29\n",
    "data = {\"selfish vs \\n cooperative\": sc,\n",
    "        \"cooperative vs \\n cooperative\": cc,\n",
    "        \"selfish vs \\n selfish\": ss}\n",
    "df = pd.DataFrame.from_dict(data, orient='index')"
   ]
  },
  {
   "cell_type": "code",
   "execution_count": 5,
   "metadata": {},
   "outputs": [
    {
     "data": {
      "image/png": "[encoded data removed]",
      "text/plain": [
       "<matplotlib.figure.Figure at 0x10ad7fa90>"
      ]
     },
     "metadata": {},
     "output_type": "display_data"
    }
   ],
   "source": [
    "font_size=16\n",
    "ax = sns.barplot(data=df.transpose())\n",
    "for bar in ax.patches:\n",
    "    width = bar.get_width()\n",
    "    newwidth = width/2.\n",
    "    x = bar.get_x()\n",
    "    centre = x+width/2.\n",
    "    bar.set_x(centre-newwidth/2.)\n",
    "    bar.set_width(newwidth)\n",
    "plt.ylim(-20,150)\n",
    "ax.tick_params(labelsize=font_size)\n",
    "ax.grid(b=True, which='major', color='w', linewidth=1.0)\n",
    "#ax.grid(b=True, which='minor', color='w', linewidth=0.5)\n",
    "#plt.ylabel(r'total social welfare', fontsize=font_size)\n",
    "plt.title(r'Total Social Welfare', fontsize=font_size)\n",
    "plt.savefig('welfare.pdf', format='pdf', dpi=1000, bbox_inches=\"tight\")\n",
    "plt.show()\n"
   ]
  },
  {
   "cell_type": "code",
   "execution_count": 16,
   "metadata": {},
   "outputs": [
    {
     "data": {
      "text/plain": [
       "(0.33333333333333331, 0.6588235294117647, 0.40784313725490196)"
      ]
     },
     "execution_count": 16,
     "metadata": {},
     "output_type": "execute_result"
    }
   ],
   "source": [
    "sns.color_palette()[1]"
   ]
  },
  {
   "cell_type": "code",
   "execution_count": null,
   "metadata": {
    "collapsed": true
   },
   "outputs": [],
   "source": []
  }
 ],
 "metadata": {
  "kernelspec": {
   "display_name": "Python 3",
   "language": "python",
   "name": "python3"
  },
  "language_info": {
   "codemirror_mode": {
    "name": "ipython",
    "version": 3
   },
   "file_extension": ".py",
   "mimetype": "text/x-python",
   "name": "python",
   "nbconvert_exporter": "python",
   "pygments_lexer": "ipython3",
   "version": "3.6.2"
  }
 },
 "nbformat": 4,
 "nbformat_minor": 2
}
